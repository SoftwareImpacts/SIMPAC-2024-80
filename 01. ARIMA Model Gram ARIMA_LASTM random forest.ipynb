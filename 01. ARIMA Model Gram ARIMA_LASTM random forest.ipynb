{
 "cells": [
  {
   "cell_type": "code",
   "execution_count": 1,
   "metadata": {},
   "outputs": [],
   "source": [
    "import pandas as pd\n",
    "import numpy as np\n",
    "import matplotlib.pyplot as plt\n",
    "\n",
    "from scipy import stats\n",
    "\n",
    "import warnings\n",
    "warnings.filterwarnings('ignore')"
   ]
  },
  {
   "cell_type": "code",
   "execution_count": 2,
   "metadata": {},
   "outputs": [],
   "source": [
    "df = pd.read_csv('../price_index_data.csv', index_col='Date', parse_dates=True)\n",
    "\n",
    "df.index.freq= 'MS'"
   ]
  },
  {
   "cell_type": "code",
   "execution_count": 3,
   "metadata": {},
   "outputs": [
    {
     "data": {
      "text/html": [
       "<div>\n",
       "<style scoped>\n",
       "    .dataframe tbody tr th:only-of-type {\n",
       "        vertical-align: middle;\n",
       "    }\n",
       "\n",
       "    .dataframe tbody tr th {\n",
       "        vertical-align: top;\n",
       "    }\n",
       "\n",
       "    .dataframe thead th {\n",
       "        text-align: right;\n",
       "    }\n",
       "</style>\n",
       "<table border=\"1\" class=\"dataframe\">\n",
       "  <thead>\n",
       "    <tr style=\"text-align: right;\">\n",
       "      <th></th>\n",
       "      <th>Gram</th>\n",
       "      <th>Arhar</th>\n",
       "      <th>Moong</th>\n",
       "      <th>Masur</th>\n",
       "      <th>Urad</th>\n",
       "    </tr>\n",
       "    <tr>\n",
       "      <th>Date</th>\n",
       "      <th></th>\n",
       "      <th></th>\n",
       "      <th></th>\n",
       "      <th></th>\n",
       "      <th></th>\n",
       "    </tr>\n",
       "  </thead>\n",
       "  <tbody>\n",
       "    <tr>\n",
       "      <th>1994-04-01</th>\n",
       "      <td>32.83</td>\n",
       "      <td>35.10</td>\n",
       "      <td>25.21</td>\n",
       "      <td>28.99</td>\n",
       "      <td>28.64</td>\n",
       "    </tr>\n",
       "    <tr>\n",
       "      <th>1994-05-01</th>\n",
       "      <td>33.48</td>\n",
       "      <td>34.55</td>\n",
       "      <td>25.42</td>\n",
       "      <td>28.84</td>\n",
       "      <td>30.09</td>\n",
       "    </tr>\n",
       "    <tr>\n",
       "      <th>1994-06-01</th>\n",
       "      <td>33.19</td>\n",
       "      <td>35.24</td>\n",
       "      <td>25.03</td>\n",
       "      <td>30.31</td>\n",
       "      <td>29.96</td>\n",
       "    </tr>\n",
       "    <tr>\n",
       "      <th>1994-07-01</th>\n",
       "      <td>34.65</td>\n",
       "      <td>36.14</td>\n",
       "      <td>23.92</td>\n",
       "      <td>32.58</td>\n",
       "      <td>31.39</td>\n",
       "    </tr>\n",
       "    <tr>\n",
       "      <th>1994-08-01</th>\n",
       "      <td>37.51</td>\n",
       "      <td>36.86</td>\n",
       "      <td>23.66</td>\n",
       "      <td>33.79</td>\n",
       "      <td>32.48</td>\n",
       "    </tr>\n",
       "  </tbody>\n",
       "</table>\n",
       "</div>"
      ],
      "text/plain": [
       "             Gram  Arhar  Moong  Masur   Urad\n",
       "Date                                         \n",
       "1994-04-01  32.83  35.10  25.21  28.99  28.64\n",
       "1994-05-01  33.48  34.55  25.42  28.84  30.09\n",
       "1994-06-01  33.19  35.24  25.03  30.31  29.96\n",
       "1994-07-01  34.65  36.14  23.92  32.58  31.39\n",
       "1994-08-01  37.51  36.86  23.66  33.79  32.48"
      ]
     },
     "execution_count": 3,
     "metadata": {},
     "output_type": "execute_result"
    }
   ],
   "source": [
    "df.head()"
   ]
  },
  {
   "cell_type": "code",
   "execution_count": 4,
   "metadata": {},
   "outputs": [
    {
     "name": "stdout",
     "output_type": "stream",
     "text": [
      "<class 'pandas.core.frame.DataFrame'>\n",
      "DatetimeIndex: 324 entries, 1994-04-01 to 2021-03-01\n",
      "Freq: MS\n",
      "Data columns (total 5 columns):\n",
      " #   Column  Non-Null Count  Dtype  \n",
      "---  ------  --------------  -----  \n",
      " 0   Gram    324 non-null    float64\n",
      " 1   Arhar   324 non-null    float64\n",
      " 2   Moong   324 non-null    float64\n",
      " 3   Masur   324 non-null    float64\n",
      " 4   Urad    324 non-null    float64\n",
      "dtypes: float64(5)\n",
      "memory usage: 15.2 KB\n"
     ]
    }
   ],
   "source": [
    "df.info()"
   ]
  },
  {
   "cell_type": "markdown",
   "metadata": {},
   "source": [
    "# Descriptive statistics"
   ]
  },
  {
   "cell_type": "code",
   "execution_count": 5,
   "metadata": {},
   "outputs": [
    {
     "data": {
      "text/plain": [
       "<AxesSubplot:xlabel='Date'>"
      ]
     },
     "execution_count": 5,
     "metadata": {},
     "output_type": "execute_result"
    },
    {
     "data": {
      "image/png": "[encoded data removed]",
      "text/plain": [
       "<Figure size 864x576 with 1 Axes>"
      ]
     },
     "metadata": {
      "needs_background": "light"
     },
     "output_type": "display_data"
    }
   ],
   "source": [
    "df['Gram'].plot(figsize=(12,8))"
   ]
  },
  {
   "cell_type": "code",
   "execution_count": 6,
   "metadata": {},
   "outputs": [
    {
     "data": {
      "text/plain": [
       "count    324.000000\n",
       "mean      82.484074\n",
       "std       50.801346\n",
       "min       22.070000\n",
       "25%       44.437500\n",
       "50%       66.045000\n",
       "75%      119.500000\n",
       "max      278.900000\n",
       "Name: Gram, dtype: float64"
      ]
     },
     "execution_count": 6,
     "metadata": {},
     "output_type": "execute_result"
    }
   ],
   "source": [
    "df['Gram'].describe()"
   ]
  },
  {
   "cell_type": "code",
   "execution_count": 7,
   "metadata": {},
   "outputs": [
    {
     "data": {
      "text/plain": [
       "1.142893809385681"
      ]
     },
     "execution_count": 7,
     "metadata": {},
     "output_type": "execute_result"
    }
   ],
   "source": [
    "df['Gram'].skew()"
   ]
  },
  {
   "cell_type": "code",
   "execution_count": 8,
   "metadata": {},
   "outputs": [
    {
     "data": {
      "text/plain": [
       "0.9154265077909178"
      ]
     },
     "execution_count": 8,
     "metadata": {},
     "output_type": "execute_result"
    }
   ],
   "source": [
    "df['Gram'].kurtosis()"
   ]
  },
  {
   "cell_type": "markdown",
   "metadata": {},
   "source": [
    "## Decompose the series"
   ]
  },
  {
   "cell_type": "code",
   "execution_count": 9,
   "metadata": {},
   "outputs": [],
   "source": [
    "from statsmodels.tsa.seasonal import seasonal_decompose"
   ]
  },
  {
   "cell_type": "code",
   "execution_count": 10,
   "metadata": {},
   "outputs": [],
   "source": [
    "decompose = seasonal_decompose(df['Gram'], model='add')"
   ]
  },
  {
   "cell_type": "code",
   "execution_count": 11,
   "metadata": {},
   "outputs": [
    {
     "data": {
      "text/plain": [
       "Date\n",
       "1994-04-01   -4.161039\n",
       "1994-05-01   -2.836199\n",
       "1994-06-01   -2.477337\n",
       "1994-07-01    0.071461\n",
       "1994-08-01    1.036413\n",
       "                ...   \n",
       "2020-11-01    5.104137\n",
       "2020-12-01    3.738865\n",
       "2021-01-01    0.569730\n",
       "2021-02-01   -2.803315\n",
       "2021-03-01   -4.881295\n",
       "Freq: MS, Name: seasonal, Length: 324, dtype: float64"
      ]
     },
     "execution_count": 11,
     "metadata": {},
     "output_type": "execute_result"
    }
   ],
   "source": [
    "decompose.seasonal"
   ]
  },
  {
   "cell_type": "code",
   "execution_count": 12,
   "metadata": {},
   "outputs": [
    {
     "data": {
      "image/png": "[encoded data removed]",
      "text/plain": [
       "<Figure size 864x432 with 1 Axes>"
      ]
     },
     "metadata": {
      "needs_background": "light"
     },
     "output_type": "display_data"
    }
   ],
   "source": [
    "decompose.trend.plot(figsize=(12,6));"
   ]
  },
  {
   "cell_type": "code",
   "execution_count": 13,
   "metadata": {},
   "outputs": [
    {
     "data": {
      "text/plain": [
       "<AxesSubplot:>"
      ]
     },
     "execution_count": 13,
     "metadata": {},
     "output_type": "execute_result"
    },
    {
     "data": {
      "image/png": "[encoded data removed]",
      "text/plain": [
       "<Figure size 432x288 with 1 Axes>"
      ]
     },
     "metadata": {
      "needs_background": "light"
     },
     "output_type": "display_data"
    }
   ],
   "source": [
    "df['Gram'].plot.box()"
   ]
  },
  {
   "cell_type": "markdown",
   "metadata": {},
   "source": [
    "# Time series modeling"
   ]
  },
  {
   "cell_type": "markdown",
   "metadata": {},
   "source": [
    "# Stationarity test\n",
    "\n",
    "A stationary process has the property that the mean, variance and autocorrelation structure do not change over time.\n",
    "\n",
    "> $H_0$ : Series is unitroot or non stationary,\n",
    ">> $H_1$ : Series is stationary"
   ]
  },
  {
   "cell_type": "code",
   "execution_count": 14,
   "metadata": {},
   "outputs": [
    {
     "data": {
      "text/plain": [
       "<AxesSubplot:xlabel='Date'>"
      ]
     },
     "execution_count": 14,
     "metadata": {},
     "output_type": "execute_result"
    },
    {
     "data": {
      "image/png": "[encoded data removed]",
      "text/plain": [
       "<Figure size 432x288 with 1 Axes>"
      ]
     },
     "metadata": {
      "needs_background": "light"
     },
     "output_type": "display_data"
    }
   ],
   "source": [
    "df['Gram'].plot()"
   ]
  },
  {
   "cell_type": "code",
   "execution_count": 15,
   "metadata": {},
   "outputs": [],
   "source": [
    "from arch.unitroot import ADF, KPSS, PhillipsPerron"
   ]
  },
  {
   "cell_type": "code",
   "execution_count": 16,
   "metadata": {},
   "outputs": [
    {
     "data": {
      "text/html": [
       "<table class=\"simpletable\">\n",
       "<caption>Phillips-Perron Test (Z-tau)</caption>\n",
       "<tr>\n",
       "  <td>Test Statistic</td>    <td>-1.182</td>\n",
       "</tr>\n",
       "<tr>\n",
       "  <td>P-value</td>            <td>0.681</td>\n",
       "</tr>\n",
       "<tr>\n",
       "  <td>Lags</td>                  <td>17</td>\n",
       "</tr>\n",
       "</table><br/><br/>Trend: Constant<br/>Critical Values: -3.45 (1%), -2.87 (5%), -2.57 (10%)<br/>Null Hypothesis: The process contains a unit root.<br/>Alternative Hypothesis: The process is weakly stationary."
      ],
      "text/plain": [
       "<class 'arch.unitroot.unitroot.PhillipsPerron'>\n",
       "\"\"\"\n",
       "     Phillips-Perron Test (Z-tau)    \n",
       "=====================================\n",
       "Test Statistic                 -1.182\n",
       "P-value                         0.681\n",
       "Lags                               17\n",
       "-------------------------------------\n",
       "\n",
       "Trend: Constant\n",
       "Critical Values: -3.45 (1%), -2.87 (5%), -2.57 (10%)\n",
       "Null Hypothesis: The process contains a unit root.\n",
       "Alternative Hypothesis: The process is weakly stationary.\n",
       "\"\"\""
      ]
     },
     "execution_count": 16,
     "metadata": {},
     "output_type": "execute_result"
    }
   ],
   "source": [
    "PhillipsPerron(df['Gram'])"
   ]
  },
  {
   "cell_type": "code",
   "execution_count": 17,
   "metadata": {},
   "outputs": [
    {
     "data": {
      "text/html": [
       "<table class=\"simpletable\">\n",
       "<caption>Augmented Dickey-Fuller Results</caption>\n",
       "<tr>\n",
       "  <td>Test Statistic</td>    <td>-1.444</td>\n",
       "</tr>\n",
       "<tr>\n",
       "  <td>P-value</td>            <td>0.561</td>\n",
       "</tr>\n",
       "<tr>\n",
       "  <td>Lags</td>                  <td>11</td>\n",
       "</tr>\n",
       "</table><br/><br/>Trend: Constant<br/>Critical Values: -3.45 (1%), -2.87 (5%), -2.57 (10%)<br/>Null Hypothesis: The process contains a unit root.<br/>Alternative Hypothesis: The process is weakly stationary."
      ],
      "text/plain": [
       "<class 'arch.unitroot.unitroot.ADF'>\n",
       "\"\"\"\n",
       "   Augmented Dickey-Fuller Results   \n",
       "=====================================\n",
       "Test Statistic                 -1.444\n",
       "P-value                         0.561\n",
       "Lags                               11\n",
       "-------------------------------------\n",
       "\n",
       "Trend: Constant\n",
       "Critical Values: -3.45 (1%), -2.87 (5%), -2.57 (10%)\n",
       "Null Hypothesis: The process contains a unit root.\n",
       "Alternative Hypothesis: The process is weakly stationary.\n",
       "\"\"\""
      ]
     },
     "execution_count": 17,
     "metadata": {},
     "output_type": "execute_result"
    }
   ],
   "source": [
    "ADF(df['Gram'])"
   ]
  },
  {
   "cell_type": "markdown",
   "metadata": {},
   "source": [
    "#### 1st diff"
   ]
  },
  {
   "cell_type": "code",
   "execution_count": 18,
   "metadata": {},
   "outputs": [],
   "source": [
    "df_diff = df['Gram'].diff(periods=1).iloc[1:]"
   ]
  },
  {
   "cell_type": "code",
   "execution_count": 19,
   "metadata": {},
   "outputs": [
    {
     "data": {
      "text/plain": [
       "Date\n",
       "1994-05-01    0.65\n",
       "1994-06-01   -0.29\n",
       "1994-07-01    1.46\n",
       "1994-08-01    2.86\n",
       "1994-09-01    0.72\n",
       "Freq: MS, Name: Gram, dtype: float64"
      ]
     },
     "execution_count": 19,
     "metadata": {},
     "output_type": "execute_result"
    }
   ],
   "source": [
    "df_diff.head()"
   ]
  },
  {
   "cell_type": "code",
   "execution_count": 20,
   "metadata": {},
   "outputs": [
    {
     "data": {
      "text/html": [
       "<table class=\"simpletable\">\n",
       "<caption>Phillips-Perron Test (Z-tau)</caption>\n",
       "<tr>\n",
       "  <td>Test Statistic</td>    <td>-9.438</td>\n",
       "</tr>\n",
       "<tr>\n",
       "  <td>P-value</td>            <td>0.000</td>\n",
       "</tr>\n",
       "<tr>\n",
       "  <td>Lags</td>                  <td>17</td>\n",
       "</tr>\n",
       "</table><br/><br/>Trend: Constant<br/>Critical Values: -3.45 (1%), -2.87 (5%), -2.57 (10%)<br/>Null Hypothesis: The process contains a unit root.<br/>Alternative Hypothesis: The process is weakly stationary."
      ],
      "text/plain": [
       "<class 'arch.unitroot.unitroot.PhillipsPerron'>\n",
       "\"\"\"\n",
       "     Phillips-Perron Test (Z-tau)    \n",
       "=====================================\n",
       "Test Statistic                 -9.438\n",
       "P-value                         0.000\n",
       "Lags                               17\n",
       "-------------------------------------\n",
       "\n",
       "Trend: Constant\n",
       "Critical Values: -3.45 (1%), -2.87 (5%), -2.57 (10%)\n",
       "Null Hypothesis: The process contains a unit root.\n",
       "Alternative Hypothesis: The process is weakly stationary.\n",
       "\"\"\""
      ]
     },
     "execution_count": 20,
     "metadata": {},
     "output_type": "execute_result"
    }
   ],
   "source": [
    "PhillipsPerron(df_diff)"
   ]
  },
  {
   "cell_type": "code",
   "execution_count": null,
   "metadata": {},
   "outputs": [],
   "source": []
  },
  {
   "cell_type": "code",
   "execution_count": 21,
   "metadata": {},
   "outputs": [
    {
     "data": {
      "text/plain": [
       "Date\n",
       "1994-05-01    0.65\n",
       "1994-06-01   -0.29\n",
       "1994-07-01    1.46\n",
       "1994-08-01    2.86\n",
       "1994-09-01    0.72\n",
       "Freq: MS, Name: Gram, dtype: float64"
      ]
     },
     "execution_count": 21,
     "metadata": {},
     "output_type": "execute_result"
    }
   ],
   "source": [
    "df_diff.head()"
   ]
  },
  {
   "cell_type": "code",
   "execution_count": 22,
   "metadata": {},
   "outputs": [
    {
     "data": {
      "text/html": [
       "<table class=\"simpletable\">\n",
       "<caption>Augmented Dickey-Fuller Results</caption>\n",
       "<tr>\n",
       "  <td>Test Statistic</td>    <td>-4.506</td>\n",
       "</tr>\n",
       "<tr>\n",
       "  <td>P-value</td>            <td>0.000</td>\n",
       "</tr>\n",
       "<tr>\n",
       "  <td>Lags</td>                  <td>10</td>\n",
       "</tr>\n",
       "</table><br/><br/>Trend: Constant<br/>Critical Values: -3.45 (1%), -2.87 (5%), -2.57 (10%)<br/>Null Hypothesis: The process contains a unit root.<br/>Alternative Hypothesis: The process is weakly stationary."
      ],
      "text/plain": [
       "<class 'arch.unitroot.unitroot.ADF'>\n",
       "\"\"\"\n",
       "   Augmented Dickey-Fuller Results   \n",
       "=====================================\n",
       "Test Statistic                 -4.506\n",
       "P-value                         0.000\n",
       "Lags                               10\n",
       "-------------------------------------\n",
       "\n",
       "Trend: Constant\n",
       "Critical Values: -3.45 (1%), -2.87 (5%), -2.57 (10%)\n",
       "Null Hypothesis: The process contains a unit root.\n",
       "Alternative Hypothesis: The process is weakly stationary.\n",
       "\"\"\""
      ]
     },
     "execution_count": 22,
     "metadata": {},
     "output_type": "execute_result"
    }
   ],
   "source": [
    "ADF(df_diff)"
   ]
  },
  {
   "cell_type": "markdown",
   "metadata": {},
   "source": [
    "##### In diff. 1, the data series are in stationary."
   ]
  },
  {
   "cell_type": "code",
   "execution_count": 23,
   "metadata": {},
   "outputs": [
    {
     "data": {
      "text/plain": [
       "<AxesSubplot:xlabel='Date'>"
      ]
     },
     "execution_count": 23,
     "metadata": {},
     "output_type": "execute_result"
    },
    {
     "data": {
      "image/png": "[encoded data removed]",
      "text/plain": [
       "<Figure size 432x288 with 1 Axes>"
      ]
     },
     "metadata": {
      "needs_background": "light"
     },
     "output_type": "display_data"
    }
   ],
   "source": [
    "df_diff.plot()"
   ]
  },
  {
   "cell_type": "markdown",
   "metadata": {},
   "source": [
    "## ACF and PACF plot\n",
    "\n",
    ">**Autocorrelation** represents the degree of similarity between a given time series and a lagged version of itself over successive time intervals.\n",
    "\n",
    "> **Partial Autocorrelation** is a conditional correlation."
   ]
  },
  {
   "cell_type": "code",
   "execution_count": 24,
   "metadata": {},
   "outputs": [],
   "source": [
    "from statsmodels.graphics.tsaplots import plot_acf, plot_pacf"
   ]
  },
  {
   "cell_type": "code",
   "execution_count": 25,
   "metadata": {},
   "outputs": [
    {
     "data": {
      "image/png": "[encoded data removed]",
      "text/plain": [
       "<Figure size 432x288 with 1 Axes>"
      ]
     },
     "metadata": {
      "needs_background": "light"
     },
     "output_type": "display_data"
    }
   ],
   "source": [
    "plot_acf(df['Gram']); # q order"
   ]
  },
  {
   "cell_type": "code",
   "execution_count": 26,
   "metadata": {},
   "outputs": [
    {
     "data": {
      "image/png": "[encoded data removed]",
      "text/plain": [
       "<Figure size 432x288 with 1 Axes>"
      ]
     },
     "metadata": {
      "needs_background": "light"
     },
     "output_type": "display_data"
    }
   ],
   "source": [
    "plot_pacf(df['Gram']); # p order"
   ]
  },
  {
   "cell_type": "markdown",
   "metadata": {},
   "source": [
    "# AUTO ARIMA"
   ]
  },
  {
   "cell_type": "code",
   "execution_count": 27,
   "metadata": {},
   "outputs": [],
   "source": [
    "from pmdarima import auto_arima"
   ]
  },
  {
   "cell_type": "code",
   "execution_count": 28,
   "metadata": {},
   "outputs": [
    {
     "name": "stdout",
     "output_type": "stream",
     "text": [
      "Fit ARIMA: order=(0, 1, 0); AIC=2043.421, BIC=2050.976, Fit time=0.010 seconds\n",
      "Fit ARIMA: order=(1, 1, 0); AIC=1947.821, BIC=1959.154, Fit time=0.027 seconds\n",
      "Fit ARIMA: order=(0, 1, 1); AIC=1949.852, BIC=1961.185, Fit time=0.035 seconds\n",
      "Fit ARIMA: order=(2, 1, 0); AIC=1945.277, BIC=1960.388, Fit time=0.048 seconds\n",
      "Fit ARIMA: order=(2, 1, 1); AIC=1945.230, BIC=1964.118, Fit time=0.151 seconds\n",
      "Fit ARIMA: order=(3, 1, 2); AIC=1940.386, BIC=1966.830, Fit time=0.423 seconds\n",
      "Fit ARIMA: order=(2, 1, 2); AIC=1947.079, BIC=1969.745, Fit time=0.159 seconds\n",
      "Fit ARIMA: order=(4, 1, 2); AIC=1941.612, BIC=1971.834, Fit time=0.452 seconds\n",
      "Fit ARIMA: order=(3, 1, 1); AIC=1946.996, BIC=1969.662, Fit time=0.231 seconds\n",
      "Fit ARIMA: order=(3, 1, 3); AIC=1941.976, BIC=1972.197, Fit time=0.423 seconds\n",
      "Fit ARIMA: order=(4, 1, 3); AIC=1936.538, BIC=1970.537, Fit time=2.709 seconds\n",
      "Fit ARIMA: order=(5, 1, 3); AIC=1948.893, BIC=1986.670, Fit time=0.496 seconds\n",
      "Total fit time: 5.169 seconds\n"
     ]
    }
   ],
   "source": [
    "stepwise_fit = auto_arima(df['Gram'], start_p=0,start_q=0, max_p=6,max_q=3, m=12, seasonal=False, trace=True)"
   ]
  },
  {
   "cell_type": "code",
   "execution_count": 29,
   "metadata": {},
   "outputs": [
    {
     "data": {
      "text/html": [
       "<table class=\"simpletable\">\n",
       "<caption>ARIMA Model Results</caption>\n",
       "<tr>\n",
       "  <th>Dep. Variable:</th>        <td>D.y</td>       <th>  No. Observations:  </th>    <td>323</td>  \n",
       "</tr>\n",
       "<tr>\n",
       "  <th>Model:</th>          <td>ARIMA(4, 1, 3)</td>  <th>  Log Likelihood     </th> <td>-959.269</td>\n",
       "</tr>\n",
       "<tr>\n",
       "  <th>Method:</th>             <td>css-mle</td>     <th>  S.D. of innovations</th>   <td>4.687</td> \n",
       "</tr>\n",
       "<tr>\n",
       "  <th>Date:</th>          <td>Sat, 03 Jul 2021</td> <th>  AIC                </th> <td>1936.538</td>\n",
       "</tr>\n",
       "<tr>\n",
       "  <th>Time:</th>              <td>10:23:26</td>     <th>  BIC                </th> <td>1970.537</td>\n",
       "</tr>\n",
       "<tr>\n",
       "  <th>Sample:</th>                <td>1</td>        <th>  HQIC               </th> <td>1950.110</td>\n",
       "</tr>\n",
       "<tr>\n",
       "  <th></th>                       <td> </td>        <th>                     </th>     <td> </td>   \n",
       "</tr>\n",
       "</table>\n",
       "<table class=\"simpletable\">\n",
       "<tr>\n",
       "      <td></td>         <th>coef</th>     <th>std err</th>      <th>z</th>      <th>P>|z|</th>  <th>[0.025</th>    <th>0.975]</th>  \n",
       "</tr>\n",
       "<tr>\n",
       "  <th>const</th>     <td>    0.4581</td> <td>    0.070</td> <td>    6.566</td> <td> 0.000</td> <td>    0.321</td> <td>    0.595</td>\n",
       "</tr>\n",
       "<tr>\n",
       "  <th>ar.L1.D.y</th> <td>    0.0569</td> <td>    0.054</td> <td>    1.057</td> <td> 0.290</td> <td>   -0.049</td> <td>    0.162</td>\n",
       "</tr>\n",
       "<tr>\n",
       "  <th>ar.L2.D.y</th> <td>    0.6532</td> <td>    0.041</td> <td>   15.954</td> <td> 0.000</td> <td>    0.573</td> <td>    0.733</td>\n",
       "</tr>\n",
       "<tr>\n",
       "  <th>ar.L3.D.y</th> <td>    0.6543</td> <td>    0.043</td> <td>   15.283</td> <td> 0.000</td> <td>    0.570</td> <td>    0.738</td>\n",
       "</tr>\n",
       "<tr>\n",
       "  <th>ar.L4.D.y</th> <td>   -0.4884</td> <td>    0.053</td> <td>   -9.161</td> <td> 0.000</td> <td>   -0.593</td> <td>   -0.384</td>\n",
       "</tr>\n",
       "<tr>\n",
       "  <th>ma.L1.D.y</th> <td>    0.4885</td> <td>    0.030</td> <td>   16.471</td> <td> 0.000</td> <td>    0.430</td> <td>    0.547</td>\n",
       "</tr>\n",
       "<tr>\n",
       "  <th>ma.L2.D.y</th> <td>   -0.5216</td> <td>    0.027</td> <td>  -18.995</td> <td> 0.000</td> <td>   -0.575</td> <td>   -0.468</td>\n",
       "</tr>\n",
       "<tr>\n",
       "  <th>ma.L3.D.y</th> <td>   -0.9668</td> <td>    0.025</td> <td>  -38.753</td> <td> 0.000</td> <td>   -1.016</td> <td>   -0.918</td>\n",
       "</tr>\n",
       "</table>\n",
       "<table class=\"simpletable\">\n",
       "<caption>Roots</caption>\n",
       "<tr>\n",
       "    <td></td>   <th>            Real</th>  <th>         Imaginary</th> <th>         Modulus</th>  <th>        Frequency</th>\n",
       "</tr>\n",
       "<tr>\n",
       "  <th>AR.1</th> <td>          -0.7577</td> <td>          -0.6993j</td> <td>           1.0311</td> <td>          -0.3814</td>\n",
       "</tr>\n",
       "<tr>\n",
       "  <th>AR.2</th> <td>          -0.7577</td> <td>          +0.6993j</td> <td>           1.0311</td> <td>           0.3814</td>\n",
       "</tr>\n",
       "<tr>\n",
       "  <th>AR.3</th> <td>           1.0932</td> <td>          -0.0000j</td> <td>           1.0932</td> <td>          -0.0000</td>\n",
       "</tr>\n",
       "<tr>\n",
       "  <th>AR.4</th> <td>           1.7616</td> <td>          -0.0000j</td> <td>           1.7616</td> <td>          -0.0000</td>\n",
       "</tr>\n",
       "<tr>\n",
       "  <th>MA.1</th> <td>           1.0000</td> <td>          -0.0000j</td> <td>           1.0000</td> <td>          -0.0000</td>\n",
       "</tr>\n",
       "<tr>\n",
       "  <th>MA.2</th> <td>          -0.7698</td> <td>          -0.6646j</td> <td>           1.0170</td> <td>          -0.3866</td>\n",
       "</tr>\n",
       "<tr>\n",
       "  <th>MA.3</th> <td>          -0.7698</td> <td>          +0.6646j</td> <td>           1.0170</td> <td>           0.3866</td>\n",
       "</tr>\n",
       "</table>"
      ],
      "text/plain": [
       "<class 'statsmodels.iolib.summary.Summary'>\n",
       "\"\"\"\n",
       "                             ARIMA Model Results                              \n",
       "==============================================================================\n",
       "Dep. Variable:                    D.y   No. Observations:                  323\n",
       "Model:                 ARIMA(4, 1, 3)   Log Likelihood                -959.269\n",
       "Method:                       css-mle   S.D. of innovations              4.687\n",
       "Date:                Sat, 03 Jul 2021   AIC                           1936.538\n",
       "Time:                        10:23:26   BIC                           1970.537\n",
       "Sample:                             1   HQIC                          1950.110\n",
       "                                                                              \n",
       "==============================================================================\n",
       "                 coef    std err          z      P>|z|      [0.025      0.975]\n",
       "------------------------------------------------------------------------------\n",
       "const          0.4581      0.070      6.566      0.000       0.321       0.595\n",
       "ar.L1.D.y      0.0569      0.054      1.057      0.290      -0.049       0.162\n",
       "ar.L2.D.y      0.6532      0.041     15.954      0.000       0.573       0.733\n",
       "ar.L3.D.y      0.6543      0.043     15.283      0.000       0.570       0.738\n",
       "ar.L4.D.y     -0.4884      0.053     -9.161      0.000      -0.593      -0.384\n",
       "ma.L1.D.y      0.4885      0.030     16.471      0.000       0.430       0.547\n",
       "ma.L2.D.y     -0.5216      0.027    -18.995      0.000      -0.575      -0.468\n",
       "ma.L3.D.y     -0.9668      0.025    -38.753      0.000      -1.016      -0.918\n",
       "                                    Roots                                    \n",
       "=============================================================================\n",
       "                  Real          Imaginary           Modulus         Frequency\n",
       "-----------------------------------------------------------------------------\n",
       "AR.1           -0.7577           -0.6993j            1.0311           -0.3814\n",
       "AR.2           -0.7577           +0.6993j            1.0311            0.3814\n",
       "AR.3            1.0932           -0.0000j            1.0932           -0.0000\n",
       "AR.4            1.7616           -0.0000j            1.7616           -0.0000\n",
       "MA.1            1.0000           -0.0000j            1.0000           -0.0000\n",
       "MA.2           -0.7698           -0.6646j            1.0170           -0.3866\n",
       "MA.3           -0.7698           +0.6646j            1.0170            0.3866\n",
       "-----------------------------------------------------------------------------\n",
       "\"\"\""
      ]
     },
     "execution_count": 29,
     "metadata": {},
     "output_type": "execute_result"
    }
   ],
   "source": [
    "stepwise_fit.summary()"
   ]
  },
  {
   "cell_type": "code",
   "execution_count": 30,
   "metadata": {},
   "outputs": [],
   "source": [
    "from statsmodels.tsa.arima_model import ARIMA, ARIMAResults"
   ]
  },
  {
   "cell_type": "code",
   "execution_count": 31,
   "metadata": {},
   "outputs": [],
   "source": [
    "from statsmodels.tsa.statespace.sarimax import SARIMAX, SARIMAXResults"
   ]
  },
  {
   "cell_type": "code",
   "execution_count": 32,
   "metadata": {},
   "outputs": [
    {
     "name": "stdout",
     "output_type": "stream",
     "text": [
      "<class 'pandas.core.frame.DataFrame'>\n",
      "DatetimeIndex: 324 entries, 1994-04-01 to 2021-03-01\n",
      "Freq: MS\n",
      "Data columns (total 5 columns):\n",
      " #   Column  Non-Null Count  Dtype  \n",
      "---  ------  --------------  -----  \n",
      " 0   Gram    324 non-null    float64\n",
      " 1   Arhar   324 non-null    float64\n",
      " 2   Moong   324 non-null    float64\n",
      " 3   Masur   324 non-null    float64\n",
      " 4   Urad    324 non-null    float64\n",
      "dtypes: float64(5)\n",
      "memory usage: 15.2 KB\n"
     ]
    }
   ],
   "source": [
    "df.info()"
   ]
  },
  {
   "cell_type": "code",
   "execution_count": 33,
   "metadata": {},
   "outputs": [
    {
     "data": {
      "text/plain": [
       "312"
      ]
     },
     "execution_count": 33,
     "metadata": {},
     "output_type": "execute_result"
    }
   ],
   "source": [
    "324-12"
   ]
  },
  {
   "cell_type": "code",
   "execution_count": 34,
   "metadata": {},
   "outputs": [],
   "source": [
    "train = df.iloc[:312]\n",
    "test = df.iloc[312:]"
   ]
  },
  {
   "cell_type": "code",
   "execution_count": 35,
   "metadata": {},
   "outputs": [
    {
     "data": {
      "text/plain": [
       "12"
      ]
     },
     "execution_count": 35,
     "metadata": {},
     "output_type": "execute_result"
    }
   ],
   "source": [
    "len(test)"
   ]
  },
  {
   "cell_type": "code",
   "execution_count": 36,
   "metadata": {},
   "outputs": [
    {
     "data": {
      "text/html": [
       "<div>\n",
       "<style scoped>\n",
       "    .dataframe tbody tr th:only-of-type {\n",
       "        vertical-align: middle;\n",
       "    }\n",
       "\n",
       "    .dataframe tbody tr th {\n",
       "        vertical-align: top;\n",
       "    }\n",
       "\n",
       "    .dataframe thead th {\n",
       "        text-align: right;\n",
       "    }\n",
       "</style>\n",
       "<table border=\"1\" class=\"dataframe\">\n",
       "  <thead>\n",
       "    <tr style=\"text-align: right;\">\n",
       "      <th></th>\n",
       "      <th>Gram</th>\n",
       "      <th>Arhar</th>\n",
       "      <th>Moong</th>\n",
       "      <th>Masur</th>\n",
       "      <th>Urad</th>\n",
       "    </tr>\n",
       "    <tr>\n",
       "      <th>Date</th>\n",
       "      <th></th>\n",
       "      <th></th>\n",
       "      <th></th>\n",
       "      <th></th>\n",
       "      <th></th>\n",
       "    </tr>\n",
       "  </thead>\n",
       "  <tbody>\n",
       "    <tr>\n",
       "      <th>2019-11-01</th>\n",
       "      <td>148.3</td>\n",
       "      <td>153.6</td>\n",
       "      <td>146.7</td>\n",
       "      <td>140.5</td>\n",
       "      <td>162.1</td>\n",
       "    </tr>\n",
       "    <tr>\n",
       "      <th>2019-12-01</th>\n",
       "      <td>146.3</td>\n",
       "      <td>154.6</td>\n",
       "      <td>149.6</td>\n",
       "      <td>143.2</td>\n",
       "      <td>177.0</td>\n",
       "    </tr>\n",
       "    <tr>\n",
       "      <th>2020-01-01</th>\n",
       "      <td>145.6</td>\n",
       "      <td>152.0</td>\n",
       "      <td>151.3</td>\n",
       "      <td>147.9</td>\n",
       "      <td>180.9</td>\n",
       "    </tr>\n",
       "    <tr>\n",
       "      <th>2020-02-01</th>\n",
       "      <td>142.0</td>\n",
       "      <td>152.8</td>\n",
       "      <td>156.6</td>\n",
       "      <td>147.1</td>\n",
       "      <td>179.6</td>\n",
       "    </tr>\n",
       "    <tr>\n",
       "      <th>2020-03-01</th>\n",
       "      <td>138.5</td>\n",
       "      <td>150.9</td>\n",
       "      <td>162.0</td>\n",
       "      <td>146.0</td>\n",
       "      <td>176.9</td>\n",
       "    </tr>\n",
       "  </tbody>\n",
       "</table>\n",
       "</div>"
      ],
      "text/plain": [
       "             Gram  Arhar  Moong  Masur   Urad\n",
       "Date                                         \n",
       "2019-11-01  148.3  153.6  146.7  140.5  162.1\n",
       "2019-12-01  146.3  154.6  149.6  143.2  177.0\n",
       "2020-01-01  145.6  152.0  151.3  147.9  180.9\n",
       "2020-02-01  142.0  152.8  156.6  147.1  179.6\n",
       "2020-03-01  138.5  150.9  162.0  146.0  176.9"
      ]
     },
     "execution_count": 36,
     "metadata": {},
     "output_type": "execute_result"
    }
   ],
   "source": [
    "train.tail()"
   ]
  },
  {
   "cell_type": "code",
   "execution_count": 37,
   "metadata": {},
   "outputs": [
    {
     "data": {
      "text/html": [
       "<div>\n",
       "<style scoped>\n",
       "    .dataframe tbody tr th:only-of-type {\n",
       "        vertical-align: middle;\n",
       "    }\n",
       "\n",
       "    .dataframe tbody tr th {\n",
       "        vertical-align: top;\n",
       "    }\n",
       "\n",
       "    .dataframe thead th {\n",
       "        text-align: right;\n",
       "    }\n",
       "</style>\n",
       "<table border=\"1\" class=\"dataframe\">\n",
       "  <thead>\n",
       "    <tr style=\"text-align: right;\">\n",
       "      <th></th>\n",
       "      <th>Gram</th>\n",
       "      <th>Arhar</th>\n",
       "      <th>Moong</th>\n",
       "      <th>Masur</th>\n",
       "      <th>Urad</th>\n",
       "    </tr>\n",
       "    <tr>\n",
       "      <th>Date</th>\n",
       "      <th></th>\n",
       "      <th></th>\n",
       "      <th></th>\n",
       "      <th></th>\n",
       "      <th></th>\n",
       "    </tr>\n",
       "  </thead>\n",
       "  <tbody>\n",
       "    <tr>\n",
       "      <th>2020-04-01</th>\n",
       "      <td>146.7</td>\n",
       "      <td>155.7</td>\n",
       "      <td>174.2</td>\n",
       "      <td>149.7</td>\n",
       "      <td>180.6</td>\n",
       "    </tr>\n",
       "    <tr>\n",
       "      <th>2020-05-01</th>\n",
       "      <td>144.8</td>\n",
       "      <td>157.0</td>\n",
       "      <td>179.7</td>\n",
       "      <td>150.8</td>\n",
       "      <td>187.7</td>\n",
       "    </tr>\n",
       "    <tr>\n",
       "      <th>2020-06-01</th>\n",
       "      <td>143.8</td>\n",
       "      <td>158.6</td>\n",
       "      <td>176.1</td>\n",
       "      <td>155.1</td>\n",
       "      <td>184.0</td>\n",
       "    </tr>\n",
       "    <tr>\n",
       "      <th>2020-07-01</th>\n",
       "      <td>144.3</td>\n",
       "      <td>160.1</td>\n",
       "      <td>173.6</td>\n",
       "      <td>157.5</td>\n",
       "      <td>181.7</td>\n",
       "    </tr>\n",
       "    <tr>\n",
       "      <th>2020-08-01</th>\n",
       "      <td>144.8</td>\n",
       "      <td>160.9</td>\n",
       "      <td>170.4</td>\n",
       "      <td>158.0</td>\n",
       "      <td>180.9</td>\n",
       "    </tr>\n",
       "  </tbody>\n",
       "</table>\n",
       "</div>"
      ],
      "text/plain": [
       "             Gram  Arhar  Moong  Masur   Urad\n",
       "Date                                         \n",
       "2020-04-01  146.7  155.7  174.2  149.7  180.6\n",
       "2020-05-01  144.8  157.0  179.7  150.8  187.7\n",
       "2020-06-01  143.8  158.6  176.1  155.1  184.0\n",
       "2020-07-01  144.3  160.1  173.6  157.5  181.7\n",
       "2020-08-01  144.8  160.9  170.4  158.0  180.9"
      ]
     },
     "execution_count": 37,
     "metadata": {},
     "output_type": "execute_result"
    }
   ],
   "source": [
    "test.head()"
   ]
  },
  {
   "cell_type": "markdown",
   "metadata": {},
   "source": [
    "## ARIMA Model for Gram\n",
    "\n",
    "\n",
    "ARIMA(p,d,q)"
   ]
  },
  {
   "cell_type": "code",
   "execution_count": 38,
   "metadata": {},
   "outputs": [
    {
     "name": "stderr",
     "output_type": "stream",
     "text": [
      "/Users/soumikray/Documents/Python/anaconda3/lib/python3.8/site-packages/statsmodels/base/model.py:566: ConvergenceWarning: Maximum Likelihood optimization failed to converge. Check mle_retvals\n",
      "  warnings.warn(\"Maximum Likelihood optimization failed to \"\n"
     ]
    },
    {
     "data": {
      "text/html": [
       "<table class=\"simpletable\">\n",
       "<caption>ARIMA Model Results</caption>\n",
       "<tr>\n",
       "  <th>Dep. Variable:</th>      <td>D.Gram</td>      <th>  No. Observations:  </th>    <td>311</td>  \n",
       "</tr>\n",
       "<tr>\n",
       "  <th>Model:</th>          <td>ARIMA(4, 1, 3)</td>  <th>  Log Likelihood     </th> <td>-922.963</td>\n",
       "</tr>\n",
       "<tr>\n",
       "  <th>Method:</th>             <td>css-mle</td>     <th>  S.D. of innovations</th>   <td>4.671</td> \n",
       "</tr>\n",
       "<tr>\n",
       "  <th>Date:</th>          <td>Sat, 03 Jul 2021</td> <th>  AIC                </th> <td>1863.927</td>\n",
       "</tr>\n",
       "<tr>\n",
       "  <th>Time:</th>              <td>10:23:31</td>     <th>  BIC                </th> <td>1897.585</td>\n",
       "</tr>\n",
       "<tr>\n",
       "  <th>Sample:</th>           <td>05-01-1994</td>    <th>  HQIC               </th> <td>1877.380</td>\n",
       "</tr>\n",
       "<tr>\n",
       "  <th></th>                 <td>- 03-01-2020</td>   <th>                     </th>     <td> </td>   \n",
       "</tr>\n",
       "</table>\n",
       "<table class=\"simpletable\">\n",
       "<tr>\n",
       "        <td></td>          <th>coef</th>     <th>std err</th>      <th>z</th>      <th>P>|z|</th>  <th>[0.025</th>    <th>0.975]</th>  \n",
       "</tr>\n",
       "<tr>\n",
       "  <th>const</th>        <td>    0.4435</td> <td>    0.077</td> <td>    5.789</td> <td> 0.000</td> <td>    0.293</td> <td>    0.594</td>\n",
       "</tr>\n",
       "<tr>\n",
       "  <th>ar.L1.D.Gram</th> <td>    0.0439</td> <td>    0.056</td> <td>    0.780</td> <td> 0.435</td> <td>   -0.066</td> <td>    0.154</td>\n",
       "</tr>\n",
       "<tr>\n",
       "  <th>ar.L2.D.Gram</th> <td>    0.6874</td> <td>    0.043</td> <td>   15.814</td> <td> 0.000</td> <td>    0.602</td> <td>    0.773</td>\n",
       "</tr>\n",
       "<tr>\n",
       "  <th>ar.L3.D.Gram</th> <td>    0.6333</td> <td>    0.040</td> <td>   15.888</td> <td> 0.000</td> <td>    0.555</td> <td>    0.711</td>\n",
       "</tr>\n",
       "<tr>\n",
       "  <th>ar.L4.D.Gram</th> <td>   -0.4851</td> <td>    0.052</td> <td>   -9.277</td> <td> 0.000</td> <td>   -0.588</td> <td>   -0.383</td>\n",
       "</tr>\n",
       "<tr>\n",
       "  <th>ma.L1.D.Gram</th> <td>    0.5194</td> <td>    0.030</td> <td>   17.461</td> <td> 0.000</td> <td>    0.461</td> <td>    0.578</td>\n",
       "</tr>\n",
       "<tr>\n",
       "  <th>ma.L2.D.Gram</th> <td>   -0.5368</td> <td>    0.021</td> <td>  -25.479</td> <td> 0.000</td> <td>   -0.578</td> <td>   -0.495</td>\n",
       "</tr>\n",
       "<tr>\n",
       "  <th>ma.L3.D.Gram</th> <td>   -0.9824</td> <td>    0.033</td> <td>  -30.145</td> <td> 0.000</td> <td>   -1.046</td> <td>   -0.919</td>\n",
       "</tr>\n",
       "</table>\n",
       "<table class=\"simpletable\">\n",
       "<caption>Roots</caption>\n",
       "<tr>\n",
       "    <td></td>   <th>            Real</th>  <th>         Imaginary</th> <th>         Modulus</th>  <th>        Frequency</th>\n",
       "</tr>\n",
       "<tr>\n",
       "  <th>AR.1</th> <td>          -0.7733</td> <td>          -0.6894j</td> <td>           1.0360</td> <td>          -0.3841</td>\n",
       "</tr>\n",
       "<tr>\n",
       "  <th>AR.2</th> <td>          -0.7733</td> <td>          +0.6894j</td> <td>           1.0360</td> <td>           0.3841</td>\n",
       "</tr>\n",
       "<tr>\n",
       "  <th>AR.3</th> <td>           1.0901</td> <td>          -0.0000j</td> <td>           1.0901</td> <td>          -0.0000</td>\n",
       "</tr>\n",
       "<tr>\n",
       "  <th>AR.4</th> <td>           1.7620</td> <td>          -0.0000j</td> <td>           1.7620</td> <td>          -0.0000</td>\n",
       "</tr>\n",
       "<tr>\n",
       "  <th>MA.1</th> <td>           1.0001</td> <td>          -0.0000j</td> <td>           1.0001</td> <td>          -0.0000</td>\n",
       "</tr>\n",
       "<tr>\n",
       "  <th>MA.2</th> <td>          -0.7732</td> <td>          -0.6481j</td> <td>           1.0089</td> <td>          -0.3890</td>\n",
       "</tr>\n",
       "<tr>\n",
       "  <th>MA.3</th> <td>          -0.7732</td> <td>          +0.6481j</td> <td>           1.0089</td> <td>           0.3890</td>\n",
       "</tr>\n",
       "</table>"
      ],
      "text/plain": [
       "<class 'statsmodels.iolib.summary.Summary'>\n",
       "\"\"\"\n",
       "                             ARIMA Model Results                              \n",
       "==============================================================================\n",
       "Dep. Variable:                 D.Gram   No. Observations:                  311\n",
       "Model:                 ARIMA(4, 1, 3)   Log Likelihood                -922.963\n",
       "Method:                       css-mle   S.D. of innovations              4.671\n",
       "Date:                Sat, 03 Jul 2021   AIC                           1863.927\n",
       "Time:                        10:23:31   BIC                           1897.585\n",
       "Sample:                    05-01-1994   HQIC                          1877.380\n",
       "                         - 03-01-2020                                         \n",
       "================================================================================\n",
       "                   coef    std err          z      P>|z|      [0.025      0.975]\n",
       "--------------------------------------------------------------------------------\n",
       "const            0.4435      0.077      5.789      0.000       0.293       0.594\n",
       "ar.L1.D.Gram     0.0439      0.056      0.780      0.435      -0.066       0.154\n",
       "ar.L2.D.Gram     0.6874      0.043     15.814      0.000       0.602       0.773\n",
       "ar.L3.D.Gram     0.6333      0.040     15.888      0.000       0.555       0.711\n",
       "ar.L4.D.Gram    -0.4851      0.052     -9.277      0.000      -0.588      -0.383\n",
       "ma.L1.D.Gram     0.5194      0.030     17.461      0.000       0.461       0.578\n",
       "ma.L2.D.Gram    -0.5368      0.021    -25.479      0.000      -0.578      -0.495\n",
       "ma.L3.D.Gram    -0.9824      0.033    -30.145      0.000      -1.046      -0.919\n",
       "                                    Roots                                    \n",
       "=============================================================================\n",
       "                  Real          Imaginary           Modulus         Frequency\n",
       "-----------------------------------------------------------------------------\n",
       "AR.1           -0.7733           -0.6894j            1.0360           -0.3841\n",
       "AR.2           -0.7733           +0.6894j            1.0360            0.3841\n",
       "AR.3            1.0901           -0.0000j            1.0901           -0.0000\n",
       "AR.4            1.7620           -0.0000j            1.7620           -0.0000\n",
       "MA.1            1.0001           -0.0000j            1.0001           -0.0000\n",
       "MA.2           -0.7732           -0.6481j            1.0089           -0.3890\n",
       "MA.3           -0.7732           +0.6481j            1.0089            0.3890\n",
       "-----------------------------------------------------------------------------\n",
       "\"\"\""
      ]
     },
     "execution_count": 38,
     "metadata": {},
     "output_type": "execute_result"
    }
   ],
   "source": [
    "model_gram = ARIMA(train['Gram'], order=(4,1,3))\n",
    "\n",
    "result_gram = model_gram.fit()\n",
    "result_gram.summary()"
   ]
  },
  {
   "cell_type": "code",
   "execution_count": 39,
   "metadata": {},
   "outputs": [],
   "source": [
    "prediction_gram = result_gram.predict(start=len(train),end=len(train)+len(test)-1, typ='levels').rename('ARIMA(4,1,3)-predictions')"
   ]
  },
  {
   "cell_type": "code",
   "execution_count": 40,
   "metadata": {},
   "outputs": [
    {
     "data": {
      "text/plain": [
       "2020-04-01    136.669344\n",
       "2020-05-01    136.558448\n",
       "2020-06-01    137.535633\n",
       "2020-07-01    138.094302\n",
       "2020-08-01    139.661767\n",
       "2020-09-01    140.840682\n",
       "2020-10-01    141.903097\n",
       "2020-11-01    143.535162\n",
       "2020-12-01    144.376773\n",
       "2021-01-01    145.689919\n",
       "2021-02-01    146.897699\n",
       "2021-03-01    147.648079\n",
       "Freq: MS, Name: ARIMA(4,1,3)-predictions, dtype: float64"
      ]
     },
     "execution_count": 40,
     "metadata": {},
     "output_type": "execute_result"
    }
   ],
   "source": [
    "prediction_gram"
   ]
  },
  {
   "cell_type": "code",
   "execution_count": 41,
   "metadata": {},
   "outputs": [],
   "source": [
    "test['ARIMA_predistion']= prediction_gram"
   ]
  },
  {
   "cell_type": "code",
   "execution_count": 42,
   "metadata": {},
   "outputs": [
    {
     "data": {
      "text/plain": [
       "<AxesSubplot:title={'center':'True prediction_ARIMA'}, xlabel='Date'>"
      ]
     },
     "execution_count": 42,
     "metadata": {},
     "output_type": "execute_result"
    },
    {
     "data": {
      "image/png": "[encoded data removed]",
      "text/plain": [
       "<Figure size 720x144 with 1 Axes>"
      ]
     },
     "metadata": {
      "needs_background": "light"
     },
     "output_type": "display_data"
    }
   ],
   "source": [
    "test['Gram'].plot(figsize=(10,2), legend=True, title='True prediction_ARIMA')\n",
    "prediction_gram.plot(legend=True)"
   ]
  },
  {
   "cell_type": "markdown",
   "metadata": {},
   "source": [
    "## Error estimation"
   ]
  },
  {
   "cell_type": "code",
   "execution_count": 43,
   "metadata": {},
   "outputs": [],
   "source": [
    "from statsmodels.tools.eval_measures import rmse, mse"
   ]
  },
  {
   "cell_type": "code",
   "execution_count": 44,
   "metadata": {},
   "outputs": [
    {
     "data": {
      "text/plain": [
       "12.704413905022927"
      ]
     },
     "execution_count": 44,
     "metadata": {},
     "output_type": "execute_result"
    }
   ],
   "source": [
    "rmse(test['Gram'],prediction_gram)"
   ]
  },
  {
   "cell_type": "code",
   "execution_count": 45,
   "metadata": {},
   "outputs": [
    {
     "data": {
      "text/plain": [
       "161.40213267013988"
      ]
     },
     "execution_count": 45,
     "metadata": {},
     "output_type": "execute_result"
    }
   ],
   "source": [
    "mse(test['Gram'],prediction_gram)"
   ]
  },
  {
   "cell_type": "code",
   "execution_count": 46,
   "metadata": {},
   "outputs": [
    {
     "data": {
      "text/plain": [
       "153.19999999999996"
      ]
     },
     "execution_count": 46,
     "metadata": {},
     "output_type": "execute_result"
    }
   ],
   "source": [
    "test['Gram'].mean()"
   ]
  },
  {
   "cell_type": "code",
   "execution_count": 47,
   "metadata": {},
   "outputs": [
    {
     "data": {
      "text/plain": [
       "141.61757559228852"
      ]
     },
     "execution_count": 47,
     "metadata": {},
     "output_type": "execute_result"
    }
   ],
   "source": [
    "prediction_gram.mean()"
   ]
  },
  {
   "cell_type": "markdown",
   "metadata": {},
   "source": [
    "# Final Model Forecasting"
   ]
  },
  {
   "cell_type": "code",
   "execution_count": null,
   "metadata": {},
   "outputs": [],
   "source": []
  },
  {
   "cell_type": "code",
   "execution_count": 48,
   "metadata": {},
   "outputs": [],
   "source": [
    "FinalModel_gram = ARIMA(df['Gram'], order=(4,1,3))\n",
    "\n",
    "FinalResult_gram = FinalModel_gram.fit()"
   ]
  },
  {
   "cell_type": "code",
   "execution_count": 49,
   "metadata": {},
   "outputs": [
    {
     "data": {
      "text/html": [
       "<table class=\"simpletable\">\n",
       "<caption>ARIMA Model Results</caption>\n",
       "<tr>\n",
       "  <th>Dep. Variable:</th>      <td>D.Gram</td>      <th>  No. Observations:  </th>    <td>323</td>  \n",
       "</tr>\n",
       "<tr>\n",
       "  <th>Model:</th>          <td>ARIMA(4, 1, 3)</td>  <th>  Log Likelihood     </th> <td>-959.269</td>\n",
       "</tr>\n",
       "<tr>\n",
       "  <th>Method:</th>             <td>css-mle</td>     <th>  S.D. of innovations</th>   <td>4.687</td> \n",
       "</tr>\n",
       "<tr>\n",
       "  <th>Date:</th>          <td>Sat, 03 Jul 2021</td> <th>  AIC                </th> <td>1936.538</td>\n",
       "</tr>\n",
       "<tr>\n",
       "  <th>Time:</th>              <td>10:23:34</td>     <th>  BIC                </th> <td>1970.537</td>\n",
       "</tr>\n",
       "<tr>\n",
       "  <th>Sample:</th>           <td>05-01-1994</td>    <th>  HQIC               </th> <td>1950.110</td>\n",
       "</tr>\n",
       "<tr>\n",
       "  <th></th>                 <td>- 03-01-2021</td>   <th>                     </th>     <td> </td>   \n",
       "</tr>\n",
       "</table>\n",
       "<table class=\"simpletable\">\n",
       "<tr>\n",
       "        <td></td>          <th>coef</th>     <th>std err</th>      <th>z</th>      <th>P>|z|</th>  <th>[0.025</th>    <th>0.975]</th>  \n",
       "</tr>\n",
       "<tr>\n",
       "  <th>const</th>        <td>    0.4581</td> <td>    0.070</td> <td>    6.566</td> <td> 0.000</td> <td>    0.321</td> <td>    0.595</td>\n",
       "</tr>\n",
       "<tr>\n",
       "  <th>ar.L1.D.Gram</th> <td>    0.0569</td> <td>    0.054</td> <td>    1.057</td> <td> 0.290</td> <td>   -0.049</td> <td>    0.162</td>\n",
       "</tr>\n",
       "<tr>\n",
       "  <th>ar.L2.D.Gram</th> <td>    0.6532</td> <td>    0.041</td> <td>   15.954</td> <td> 0.000</td> <td>    0.573</td> <td>    0.733</td>\n",
       "</tr>\n",
       "<tr>\n",
       "  <th>ar.L3.D.Gram</th> <td>    0.6543</td> <td>    0.043</td> <td>   15.283</td> <td> 0.000</td> <td>    0.570</td> <td>    0.738</td>\n",
       "</tr>\n",
       "<tr>\n",
       "  <th>ar.L4.D.Gram</th> <td>   -0.4884</td> <td>    0.053</td> <td>   -9.161</td> <td> 0.000</td> <td>   -0.593</td> <td>   -0.384</td>\n",
       "</tr>\n",
       "<tr>\n",
       "  <th>ma.L1.D.Gram</th> <td>    0.4885</td> <td>    0.030</td> <td>   16.471</td> <td> 0.000</td> <td>    0.430</td> <td>    0.547</td>\n",
       "</tr>\n",
       "<tr>\n",
       "  <th>ma.L2.D.Gram</th> <td>   -0.5216</td> <td>    0.027</td> <td>  -18.995</td> <td> 0.000</td> <td>   -0.575</td> <td>   -0.468</td>\n",
       "</tr>\n",
       "<tr>\n",
       "  <th>ma.L3.D.Gram</th> <td>   -0.9668</td> <td>    0.025</td> <td>  -38.753</td> <td> 0.000</td> <td>   -1.016</td> <td>   -0.918</td>\n",
       "</tr>\n",
       "</table>\n",
       "<table class=\"simpletable\">\n",
       "<caption>Roots</caption>\n",
       "<tr>\n",
       "    <td></td>   <th>            Real</th>  <th>         Imaginary</th> <th>         Modulus</th>  <th>        Frequency</th>\n",
       "</tr>\n",
       "<tr>\n",
       "  <th>AR.1</th> <td>          -0.7577</td> <td>          -0.6993j</td> <td>           1.0311</td> <td>          -0.3814</td>\n",
       "</tr>\n",
       "<tr>\n",
       "  <th>AR.2</th> <td>          -0.7577</td> <td>          +0.6993j</td> <td>           1.0311</td> <td>           0.3814</td>\n",
       "</tr>\n",
       "<tr>\n",
       "  <th>AR.3</th> <td>           1.0932</td> <td>          -0.0000j</td> <td>           1.0932</td> <td>          -0.0000</td>\n",
       "</tr>\n",
       "<tr>\n",
       "  <th>AR.4</th> <td>           1.7616</td> <td>          -0.0000j</td> <td>           1.7616</td> <td>          -0.0000</td>\n",
       "</tr>\n",
       "<tr>\n",
       "  <th>MA.1</th> <td>           1.0000</td> <td>          -0.0000j</td> <td>           1.0000</td> <td>          -0.0000</td>\n",
       "</tr>\n",
       "<tr>\n",
       "  <th>MA.2</th> <td>          -0.7698</td> <td>          -0.6646j</td> <td>           1.0170</td> <td>          -0.3866</td>\n",
       "</tr>\n",
       "<tr>\n",
       "  <th>MA.3</th> <td>          -0.7698</td> <td>          +0.6646j</td> <td>           1.0170</td> <td>           0.3866</td>\n",
       "</tr>\n",
       "</table>"
      ],
      "text/plain": [
       "<class 'statsmodels.iolib.summary.Summary'>\n",
       "\"\"\"\n",
       "                             ARIMA Model Results                              \n",
       "==============================================================================\n",
       "Dep. Variable:                 D.Gram   No. Observations:                  323\n",
       "Model:                 ARIMA(4, 1, 3)   Log Likelihood                -959.269\n",
       "Method:                       css-mle   S.D. of innovations              4.687\n",
       "Date:                Sat, 03 Jul 2021   AIC                           1936.538\n",
       "Time:                        10:23:34   BIC                           1970.537\n",
       "Sample:                    05-01-1994   HQIC                          1950.110\n",
       "                         - 03-01-2021                                         \n",
       "================================================================================\n",
       "                   coef    std err          z      P>|z|      [0.025      0.975]\n",
       "--------------------------------------------------------------------------------\n",
       "const            0.4581      0.070      6.566      0.000       0.321       0.595\n",
       "ar.L1.D.Gram     0.0569      0.054      1.057      0.290      -0.049       0.162\n",
       "ar.L2.D.Gram     0.6532      0.041     15.954      0.000       0.573       0.733\n",
       "ar.L3.D.Gram     0.6543      0.043     15.283      0.000       0.570       0.738\n",
       "ar.L4.D.Gram    -0.4884      0.053     -9.161      0.000      -0.593      -0.384\n",
       "ma.L1.D.Gram     0.4885      0.030     16.471      0.000       0.430       0.547\n",
       "ma.L2.D.Gram    -0.5216      0.027    -18.995      0.000      -0.575      -0.468\n",
       "ma.L3.D.Gram    -0.9668      0.025    -38.753      0.000      -1.016      -0.918\n",
       "                                    Roots                                    \n",
       "=============================================================================\n",
       "                  Real          Imaginary           Modulus         Frequency\n",
       "-----------------------------------------------------------------------------\n",
       "AR.1           -0.7577           -0.6993j            1.0311           -0.3814\n",
       "AR.2           -0.7577           +0.6993j            1.0311            0.3814\n",
       "AR.3            1.0932           -0.0000j            1.0932           -0.0000\n",
       "AR.4            1.7616           -0.0000j            1.7616           -0.0000\n",
       "MA.1            1.0000           -0.0000j            1.0000           -0.0000\n",
       "MA.2           -0.7698           -0.6646j            1.0170           -0.3866\n",
       "MA.3           -0.7698           +0.6646j            1.0170            0.3866\n",
       "-----------------------------------------------------------------------------\n",
       "\"\"\""
      ]
     },
     "execution_count": 49,
     "metadata": {},
     "output_type": "execute_result"
    }
   ],
   "source": [
    "FinalResult_gram.summary()"
   ]
  },
  {
   "cell_type": "code",
   "execution_count": 50,
   "metadata": {},
   "outputs": [],
   "source": [
    "forecast_gram = FinalResult_gram.predict(start=len(df),end=len(df)+47 , typ='levels').rename('ARIMA(4,1,3)-forecast')"
   ]
  },
  {
   "cell_type": "code",
   "execution_count": 51,
   "metadata": {},
   "outputs": [
    {
     "data": {
      "text/plain": [
       "<AxesSubplot:xlabel='Date'>"
      ]
     },
     "execution_count": 51,
     "metadata": {},
     "output_type": "execute_result"
    },
    {
     "data": {
      "image/png": "[encoded data removed]",
      "text/plain": [
       "<Figure size 864x576 with 1 Axes>"
      ]
     },
     "metadata": {
      "needs_background": "light"
     },
     "output_type": "display_data"
    }
   ],
   "source": [
    "df['Gram'].plot(figsize=(12,8),legend=True)\n",
    "forecast_gram.plot(legend=True)"
   ]
  },
  {
   "cell_type": "code",
   "execution_count": 52,
   "metadata": {},
   "outputs": [
    {
     "name": "stdout",
     "output_type": "stream",
     "text": [
      "2021-04-01    160.628461\n",
      "2021-05-01    161.330956\n",
      "2021-06-01    162.483172\n",
      "2021-07-01    162.125491\n",
      "2021-08-01    162.871828\n",
      "2021-09-01    163.148261\n",
      "2021-10-01    162.911520\n",
      "2021-11-01    163.798443\n",
      "2021-12-01    163.567470\n",
      "2022-01-01    163.900559\n",
      "2022-02-01    164.521412\n",
      "2022-03-01    164.246840\n",
      "2022-04-01    165.024310\n",
      "2022-05-01    165.189579\n",
      "2022-06-01    165.280756\n",
      "2022-07-01    166.093513\n",
      "2022-08-01    165.984563\n",
      "2022-09-01    166.544993\n",
      "2022-10-01    167.049796\n",
      "2022-11-01    167.033167\n",
      "2022-12-01    167.838660\n",
      "2023-01-01    167.987034\n",
      "2023-02-01    168.320995\n",
      "2023-03-01    169.028883\n",
      "2023-04-01    169.047797\n",
      "2023-05-01    169.714105\n",
      "2023-06-01    170.121255\n",
      "2023-07-01    170.303098\n",
      "2023-08-01    171.062925\n",
      "2023-09-01    171.222728\n",
      "2023-10-01    171.705060\n",
      "2023-11-01    172.302041\n",
      "2023-12-01    172.441334\n",
      "2024-01-01    173.133545\n",
      "2024-02-01    173.475765\n",
      "2024-03-01    173.803760\n",
      "2024-04-01    174.487646\n",
      "2024-05-01    174.683453\n",
      "2024-06-01    175.245569\n",
      "2024-07-01    175.749537\n",
      "2024-08-01    175.996294\n",
      "2024-09-01    176.668484\n",
      "2024-10-01    176.979931\n",
      "2024-11-01    177.408837\n",
      "2024-12-01    178.012781\n",
      "2025-01-01    178.259593\n",
      "2025-02-01    178.853449\n",
      "2025-03-01    179.290948\n",
      "Freq: MS, Name: ARIMA(4,1,3)-forecast, dtype: float64\n"
     ]
    }
   ],
   "source": [
    "print(forecast_gram)"
   ]
  },
  {
   "cell_type": "markdown",
   "metadata": {},
   "source": [
    "# Kolmogorov-Smirnov test for goodness of fit. Normality of residuals"
   ]
  },
  {
   "cell_type": "code",
   "execution_count": 53,
   "metadata": {},
   "outputs": [
    {
     "data": {
      "image/png": "[encoded data removed]",
      "text/plain": [
       "<Figure size 432x288 with 1 Axes>"
      ]
     },
     "metadata": {
      "needs_background": "light"
     },
     "output_type": "display_data"
    }
   ],
   "source": [
    "plot_acf(FinalResult_gram.resid);"
   ]
  },
  {
   "cell_type": "code",
   "execution_count": 54,
   "metadata": {},
   "outputs": [
    {
     "data": {
      "image/png": "[encoded data removed]",
      "text/plain": [
       "<Figure size 432x288 with 1 Axes>"
      ]
     },
     "metadata": {
      "needs_background": "light"
     },
     "output_type": "display_data"
    }
   ],
   "source": [
    "plot_pacf(FinalResult_gram.resid);"
   ]
  },
  {
   "cell_type": "code",
   "execution_count": 55,
   "metadata": {},
   "outputs": [
    {
     "data": {
      "text/plain": [
       "<AxesSubplot:xlabel='Date'>"
      ]
     },
     "execution_count": 55,
     "metadata": {},
     "output_type": "execute_result"
    },
    {
     "data": {
      "image/png": "[encoded data removed]",
      "text/plain": [
       "<Figure size 432x288 with 1 Axes>"
      ]
     },
     "metadata": {
      "needs_background": "light"
     },
     "output_type": "display_data"
    }
   ],
   "source": [
    "FinalResult_gram.resid.plot()"
   ]
  },
  {
   "cell_type": "code",
   "execution_count": 56,
   "metadata": {},
   "outputs": [
    {
     "data": {
      "text/plain": [
       "<AxesSubplot:ylabel='Frequency'>"
      ]
     },
     "execution_count": 56,
     "metadata": {},
     "output_type": "execute_result"
    },
    {
     "data": {
      "image/png": "[encoded data removed]",
      "text/plain": [
       "<Figure size 432x288 with 1 Axes>"
      ]
     },
     "metadata": {
      "needs_background": "light"
     },
     "output_type": "display_data"
    }
   ],
   "source": [
    "FinalResult_gram.resid.plot.hist(bins=20,grid=True,edgecolor='k')"
   ]
  },
  {
   "cell_type": "markdown",
   "metadata": {},
   "source": [
    "##### Normality test"
   ]
  },
  {
   "cell_type": "code",
   "execution_count": 57,
   "metadata": {},
   "outputs": [
    {
     "data": {
      "text/plain": [
       "KstestResult(statistic=0.25234915551971204, pvalue=1.2934663273874694e-18)"
      ]
     },
     "execution_count": 57,
     "metadata": {},
     "output_type": "execute_result"
    }
   ],
   "source": [
    "stats.kstest(FinalResult_gram.resid.values, 'norm') # Kolmogorov-Smirnov test"
   ]
  },
  {
   "cell_type": "code",
   "execution_count": 58,
   "metadata": {},
   "outputs": [
    {
     "data": {
      "text/plain": [
       "ShapiroResult(statistic=0.68197101354599, pvalue=3.1951830806302346e-24)"
      ]
     },
     "execution_count": 58,
     "metadata": {},
     "output_type": "execute_result"
    }
   ],
   "source": [
    "stats.shapiro(FinalResult_gram.resid)      # Shapiro wilk test"
   ]
  },
  {
   "cell_type": "code",
   "execution_count": 59,
   "metadata": {},
   "outputs": [],
   "source": [
    "from statsmodels.graphics.tsaplots import quarter_plot, month_plot"
   ]
  },
  {
   "cell_type": "code",
   "execution_count": 60,
   "metadata": {},
   "outputs": [
    {
     "data": {
      "image/png": "[encoded data removed]",
      "text/plain": [
       "<Figure size 432x288 with 1 Axes>"
      ]
     },
     "metadata": {
      "needs_background": "light"
     },
     "output_type": "display_data"
    }
   ],
   "source": [
    "month_plot(df['Gram']);"
   ]
  },
  {
   "cell_type": "code",
   "execution_count": 61,
   "metadata": {},
   "outputs": [
    {
     "data": {
      "image/png": "[encoded data removed]",
      "text/plain": [
       "<Figure size 432x288 with 1 Axes>"
      ]
     },
     "metadata": {
      "needs_background": "light"
     },
     "output_type": "display_data"
    }
   ],
   "source": [
    "import numpy as np\n",
    "import statsmodels.api as sm\n",
    "import pylab\n",
    "\n",
    "\n",
    "sm.qqplot(FinalResult_gram.resid, line='s');"
   ]
  },
  {
   "cell_type": "code",
   "execution_count": 62,
   "metadata": {},
   "outputs": [
    {
     "data": {
      "text/html": [
       "<div>\n",
       "<style scoped>\n",
       "    .dataframe tbody tr th:only-of-type {\n",
       "        vertical-align: middle;\n",
       "    }\n",
       "\n",
       "    .dataframe tbody tr th {\n",
       "        vertical-align: top;\n",
       "    }\n",
       "\n",
       "    .dataframe thead th {\n",
       "        text-align: right;\n",
       "    }\n",
       "</style>\n",
       "<table border=\"1\" class=\"dataframe\">\n",
       "  <thead>\n",
       "    <tr style=\"text-align: right;\">\n",
       "      <th></th>\n",
       "      <th>lb_stat</th>\n",
       "      <th>lb_pvalue</th>\n",
       "    </tr>\n",
       "  </thead>\n",
       "  <tbody>\n",
       "    <tr>\n",
       "      <th>30</th>\n",
       "      <td>41.967424</td>\n",
       "      <td>0.072035</td>\n",
       "    </tr>\n",
       "  </tbody>\n",
       "</table>\n",
       "</div>"
      ],
      "text/plain": [
       "      lb_stat  lb_pvalue\n",
       "30  41.967424   0.072035"
      ]
     },
     "execution_count": 62,
     "metadata": {},
     "output_type": "execute_result"
    }
   ],
   "source": [
    "sm.stats.diagnostic.acorr_ljungbox(FinalResult_gram.resid, lags=[30],return_df=True)"
   ]
  },
  {
   "cell_type": "markdown",
   "metadata": {},
   "source": [
    "# ARIMA-GARCH"
   ]
  },
  {
   "cell_type": "code",
   "execution_count": 63,
   "metadata": {},
   "outputs": [
    {
     "data": {
      "text/plain": [
       "(127.99439752950376,\n",
       " 9.260544057147806e-18,\n",
       " 10.312361316948445,\n",
       " 9.470454666729646e-24)"
      ]
     },
     "execution_count": 63,
     "metadata": {},
     "output_type": "execute_result"
    }
   ],
   "source": [
    "sm.stats.diagnostic.het_arch(FinalResult_gram.resid, nlags=20)"
   ]
  },
  {
   "cell_type": "code",
   "execution_count": 64,
   "metadata": {},
   "outputs": [],
   "source": [
    "resid= FinalResult_gram.resid"
   ]
  },
  {
   "cell_type": "code",
   "execution_count": 65,
   "metadata": {},
   "outputs": [
    {
     "data": {
      "text/plain": [
       "Date\n",
       "1994-05-01    0.191935\n",
       "1994-06-01   -0.845927\n",
       "1994-07-01    1.429110\n",
       "1994-08-01    1.772779\n",
       "1994-09-01   -0.897733\n",
       "                ...   \n",
       "2020-11-01   -2.619399\n",
       "2020-12-01   -5.222936\n",
       "2021-01-01   -2.001391\n",
       "2021-02-01    3.417830\n",
       "2021-03-01    1.482765\n",
       "Freq: MS, Length: 323, dtype: float64"
      ]
     },
     "execution_count": 65,
     "metadata": {},
     "output_type": "execute_result"
    }
   ],
   "source": [
    "resid"
   ]
  },
  {
   "cell_type": "code",
   "execution_count": 66,
   "metadata": {},
   "outputs": [],
   "source": [
    "resid_train = resid.iloc[:311]\n",
    "resid_test = resid.iloc[311:]"
   ]
  },
  {
   "cell_type": "code",
   "execution_count": 67,
   "metadata": {},
   "outputs": [],
   "source": [
    "from arch import arch_model"
   ]
  },
  {
   "cell_type": "code",
   "execution_count": 68,
   "metadata": {},
   "outputs": [
    {
     "name": "stdout",
     "output_type": "stream",
     "text": [
      "Iteration:      5,   Func. Count:     33,   Neg. LLF: 783.4950167516931\n",
      "Optimization terminated successfully    (Exit mode 0)\n",
      "            Current function value: 783.4752465195899\n",
      "            Iterations: 9\n",
      "            Function evaluations: 52\n",
      "            Gradient evaluations: 9\n"
     ]
    },
    {
     "data": {
      "text/html": [
       "<table class=\"simpletable\">\n",
       "<caption>Constant Mean - GARCH Model Results</caption>\n",
       "<tr>\n",
       "  <th>Dep. Variable:</th>        <td>None</td>        <th>  R-squared:         </th>  <td>  -0.012</td> \n",
       "</tr>\n",
       "<tr>\n",
       "  <th>Mean Model:</th>       <td>Constant Mean</td>   <th>  Adj. R-squared:    </th>  <td>  -0.012</td> \n",
       "</tr>\n",
       "<tr>\n",
       "  <th>Vol Model:</th>            <td>GARCH</td>       <th>  Log-Likelihood:    </th> <td>  -783.475</td>\n",
       "</tr>\n",
       "<tr>\n",
       "  <th>Distribution:</th>        <td>Normal</td>       <th>  AIC:               </th> <td>   1574.95</td>\n",
       "</tr>\n",
       "<tr>\n",
       "  <th>Method:</th>        <td>Maximum Likelihood</td> <th>  BIC:               </th> <td>   1589.91</td>\n",
       "</tr>\n",
       "<tr>\n",
       "  <th></th>                        <td></td>          <th>  No. Observations:  </th>     <td>311</td>   \n",
       "</tr>\n",
       "<tr>\n",
       "  <th>Date:</th>           <td>Sat, Jul 03 2021</td>  <th>  Df Residuals:      </th>     <td>307</td>   \n",
       "</tr>\n",
       "<tr>\n",
       "  <th>Time:</th>               <td>10:23:35</td>      <th>  Df Model:          </th>      <td>4</td>    \n",
       "</tr>\n",
       "</table>\n",
       "<table class=\"simpletable\">\n",
       "<caption>Mean Model</caption>\n",
       "<tr>\n",
       "   <td></td>     <th>coef</th>     <th>std err</th>      <th>t</th>       <th>P>|t|</th>   <th>95.0% Conf. Int.</th> \n",
       "</tr>\n",
       "<tr>\n",
       "  <th>mu</th> <td>   -0.7229</td> <td>    0.292</td> <td>   -2.476</td> <td>1.328e-02</td> <td>[ -1.295, -0.151]</td>\n",
       "</tr>\n",
       "</table>\n",
       "<table class=\"simpletable\">\n",
       "<caption>Volatility Model</caption>\n",
       "<tr>\n",
       "      <td></td>        <th>coef</th>     <th>std err</th>      <th>t</th>       <th>P>|t|</th>     <th>95.0% Conf. Int.</th>  \n",
       "</tr>\n",
       "<tr>\n",
       "  <th>omega</th>    <td>    0.4276</td> <td>    1.128</td> <td>    0.379</td> <td>    0.705</td>   <td>[ -1.782,  2.637]</td> \n",
       "</tr>\n",
       "<tr>\n",
       "  <th>alpha[1]</th> <td>    0.2188</td> <td>    0.117</td> <td>    1.866</td> <td>6.200e-02</td> <td>[-1.098e-02,  0.449]</td>\n",
       "</tr>\n",
       "<tr>\n",
       "  <th>beta[1]</th>  <td>    0.7812</td> <td>    0.122</td> <td>    6.418</td> <td>1.385e-10</td>   <td>[  0.543,  1.020]</td> \n",
       "</tr>\n",
       "</table><br/><br/>Covariance estimator: robust"
      ],
      "text/plain": [
       "<class 'statsmodels.iolib.summary.Summary'>\n",
       "\"\"\"\n",
       "                     Constant Mean - GARCH Model Results                      \n",
       "==============================================================================\n",
       "Dep. Variable:                   None   R-squared:                      -0.012\n",
       "Mean Model:             Constant Mean   Adj. R-squared:                 -0.012\n",
       "Vol Model:                      GARCH   Log-Likelihood:               -783.475\n",
       "Distribution:                  Normal   AIC:                           1574.95\n",
       "Method:            Maximum Likelihood   BIC:                           1589.91\n",
       "                                        No. Observations:                  311\n",
       "Date:                Sat, Jul 03 2021   Df Residuals:                      307\n",
       "Time:                        10:23:35   Df Model:                            4\n",
       "                               Mean Model                               \n",
       "========================================================================\n",
       "                 coef    std err          t      P>|t|  95.0% Conf. Int.\n",
       "------------------------------------------------------------------------\n",
       "mu            -0.7229      0.292     -2.476  1.328e-02 [ -1.295, -0.151]\n",
       "                              Volatility Model                             \n",
       "===========================================================================\n",
       "                 coef    std err          t      P>|t|     95.0% Conf. Int.\n",
       "---------------------------------------------------------------------------\n",
       "omega          0.4276      1.128      0.379      0.705    [ -1.782,  2.637]\n",
       "alpha[1]       0.2188      0.117      1.866  6.200e-02 [-1.098e-02,  0.449]\n",
       "beta[1]        0.7812      0.122      6.418  1.385e-10    [  0.543,  1.020]\n",
       "===========================================================================\n",
       "\n",
       "Covariance estimator: robust\n",
       "\"\"\""
      ]
     },
     "execution_count": 68,
     "metadata": {},
     "output_type": "execute_result"
    }
   ],
   "source": [
    "model_garch = arch_model(resid_train , mean='constant', vol='GARCH', p=1, q=1)\n",
    "results_garch = model_garch.fit(update_freq = 5)\n",
    "results_garch.summary()"
   ]
  },
  {
   "cell_type": "code",
   "execution_count": 69,
   "metadata": {},
   "outputs": [],
   "source": [
    "rolling_predictions = []\n",
    "test_size = 12\n",
    "\n",
    "for i in range(test_size):\n",
    "    train = resid[:-(test_size-i)]\n",
    "    model = arch_model(train, mean='constant', vol='GARCH', p=1, q=1)\n",
    "    model_fit = model.fit(disp='off')\n",
    "    pred = model_fit.forecast(horizon=1)\n",
    "    rolling_predictions.append(np.sqrt(pred.variance.values[-1,:][0]))"
   ]
  },
  {
   "cell_type": "code",
   "execution_count": 70,
   "metadata": {},
   "outputs": [],
   "source": [
    "rolling_predictions = pd.Series(rolling_predictions, index=resid.index[-12:])"
   ]
  },
  {
   "cell_type": "code",
   "execution_count": 247,
   "metadata": {},
   "outputs": [
    {
     "data": {
      "text/plain": [
       "Date\n",
       "2020-04-01    2.365123\n",
       "2020-05-01    4.939108\n",
       "2020-06-01    5.245501\n",
       "2020-07-01    4.729176\n",
       "2020-08-01    4.266858\n",
       "2020-09-01    3.876329\n",
       "2020-10-01    5.731528\n",
       "2020-11-01    5.308455\n",
       "2020-12-01    4.864868\n",
       "2021-01-01    4.854872\n",
       "2021-02-01    4.426807\n",
       "2021-03-01    4.406744\n",
       "Freq: MS, dtype: float64"
      ]
     },
     "execution_count": 247,
     "metadata": {},
     "output_type": "execute_result"
    }
   ],
   "source": [
    "rolling_predictions"
   ]
  },
  {
   "cell_type": "code",
   "execution_count": 246,
   "metadata": {},
   "outputs": [
    {
     "data": {
      "text/plain": [
       "<matplotlib.legend.Legend at 0x7f826c4a0eb0>"
      ]
     },
     "execution_count": 246,
     "metadata": {},
     "output_type": "execute_result"
    },
    {
     "data": {
      "image/png": "[encoded data removed]",
      "text/plain": [
       "<Figure size 720x216 with 1 Axes>"
      ]
     },
     "metadata": {
      "needs_background": "light"
     },
     "output_type": "display_data"
    }
   ],
   "source": [
    "plt.figure(figsize=(10,3))\n",
    "true, = plt.plot(resid_test)\n",
    "preds, = plt.plot(rolling_predictions)\n",
    "pred, = plt.plot(test_resid['prediction'])\n",
    "plt.title('Volatility Prediction - Rolling Forecast', fontsize=20)\n",
    "plt.legend(['True Volatility', 'Predicted Volatility_ARIMA-GARCH','Prediction Volatility_ARIMA-LSTM'], fontsize=7)"
   ]
  },
  {
   "cell_type": "code",
   "execution_count": 73,
   "metadata": {},
   "outputs": [
    {
     "data": {
      "image/png": "[encoded data removed]",
      "text/plain": [
       "<Figure size 432x288 with 2 Axes>"
      ]
     },
     "metadata": {
      "needs_background": "light"
     },
     "output_type": "display_data"
    }
   ],
   "source": [
    "results_garch.plot(annualize='D');"
   ]
  },
  {
   "cell_type": "code",
   "execution_count": 74,
   "metadata": {},
   "outputs": [
    {
     "data": {
      "image/png": "[encoded data removed]",
      "text/plain": [
       "<Figure size 432x288 with 2 Axes>"
      ]
     },
     "metadata": {
      "needs_background": "light"
     },
     "output_type": "display_data"
    }
   ],
   "source": [
    "results_garch.plot();"
   ]
  },
  {
   "cell_type": "markdown",
   "metadata": {},
   "source": [
    "## Normality Check"
   ]
  },
  {
   "cell_type": "code",
   "execution_count": 75,
   "metadata": {},
   "outputs": [
    {
     "data": {
      "text/plain": [
       "<AxesSubplot:ylabel='Frequency'>"
      ]
     },
     "execution_count": 75,
     "metadata": {},
     "output_type": "execute_result"
    },
    {
     "data": {
      "image/png": "[encoded data removed]",
      "text/plain": [
       "<Figure size 432x288 with 1 Axes>"
      ]
     },
     "metadata": {
      "needs_background": "light"
     },
     "output_type": "display_data"
    }
   ],
   "source": [
    "results_garch.resid.plot.hist(bins=20,grid=True,edgecolor='k')"
   ]
  },
  {
   "cell_type": "code",
   "execution_count": 76,
   "metadata": {},
   "outputs": [
    {
     "data": {
      "text/plain": [
       "KstestResult(statistic=0.1377453710707561, pvalue=1.3103359458907389e-05)"
      ]
     },
     "execution_count": 76,
     "metadata": {},
     "output_type": "execute_result"
    }
   ],
   "source": [
    "stats.kstest(results_garch.std_resid.values, 'norm') # Kolmogorov-Smirnov test"
   ]
  },
  {
   "cell_type": "code",
   "execution_count": 77,
   "metadata": {},
   "outputs": [
    {
     "data": {
      "text/plain": [
       "ShapiroResult(statistic=0.7665534019470215, pvalue=1.0090683396274186e-20)"
      ]
     },
     "execution_count": 77,
     "metadata": {},
     "output_type": "execute_result"
    }
   ],
   "source": [
    "stats.shapiro(results_garch.std_resid)      # Shapiro wilk test"
   ]
  },
  {
   "cell_type": "code",
   "execution_count": 78,
   "metadata": {},
   "outputs": [
    {
     "data": {
      "image/png": "[encoded data removed]",
      "text/plain": [
       "<Figure size 432x288 with 1 Axes>"
      ]
     },
     "metadata": {
      "needs_background": "light"
     },
     "output_type": "display_data"
    }
   ],
   "source": [
    "import numpy as np\n",
    "import statsmodels.api as sm\n",
    "\n",
    "\n",
    "sm.qqplot(results_garch.std_resid, line='s');"
   ]
  },
  {
   "cell_type": "code",
   "execution_count": 79,
   "metadata": {},
   "outputs": [
    {
     "data": {
      "text/html": [
       "<div>\n",
       "<style scoped>\n",
       "    .dataframe tbody tr th:only-of-type {\n",
       "        vertical-align: middle;\n",
       "    }\n",
       "\n",
       "    .dataframe tbody tr th {\n",
       "        vertical-align: top;\n",
       "    }\n",
       "\n",
       "    .dataframe thead th {\n",
       "        text-align: right;\n",
       "    }\n",
       "</style>\n",
       "<table border=\"1\" class=\"dataframe\">\n",
       "  <thead>\n",
       "    <tr style=\"text-align: right;\">\n",
       "      <th></th>\n",
       "      <th>lb_stat</th>\n",
       "      <th>lb_pvalue</th>\n",
       "    </tr>\n",
       "  </thead>\n",
       "  <tbody>\n",
       "    <tr>\n",
       "      <th>15</th>\n",
       "      <td>26.466039</td>\n",
       "      <td>0.0334</td>\n",
       "    </tr>\n",
       "  </tbody>\n",
       "</table>\n",
       "</div>"
      ],
      "text/plain": [
       "      lb_stat  lb_pvalue\n",
       "15  26.466039     0.0334"
      ]
     },
     "execution_count": 79,
     "metadata": {},
     "output_type": "execute_result"
    }
   ],
   "source": [
    "sm.stats.diagnostic.acorr_ljungbox(results_garch.resid, lags=[15], return_df=True)"
   ]
  },
  {
   "cell_type": "code",
   "execution_count": 80,
   "metadata": {},
   "outputs": [
    {
     "data": {
      "image/png": "[encoded data removed]",
      "text/plain": [
       "<Figure size 432x288 with 1 Axes>"
      ]
     },
     "execution_count": 80,
     "metadata": {},
     "output_type": "execute_result"
    },
    {
     "data": {
      "image/png": "[encoded data removed]",
      "text/plain": [
       "<Figure size 432x288 with 1 Axes>"
      ]
     },
     "metadata": {
      "needs_background": "light"
     },
     "output_type": "display_data"
    }
   ],
   "source": [
    "plot_pacf(results_garch.resid)"
   ]
  },
  {
   "cell_type": "code",
   "execution_count": 81,
   "metadata": {},
   "outputs": [
    {
     "data": {
      "text/plain": [
       "<AxesSubplot:xlabel='Date'>"
      ]
     },
     "execution_count": 81,
     "metadata": {},
     "output_type": "execute_result"
    },
    {
     "data": {
      "image/png": "[encoded data removed]",
      "text/plain": [
       "<Figure size 432x288 with 1 Axes>"
      ]
     },
     "metadata": {
      "needs_background": "light"
     },
     "output_type": "display_data"
    }
   ],
   "source": [
    "results_garch.resid.plot()"
   ]
  },
  {
   "cell_type": "code",
   "execution_count": 82,
   "metadata": {},
   "outputs": [
    {
     "data": {
      "text/html": [
       "<div>\n",
       "<style scoped>\n",
       "    .dataframe tbody tr th:only-of-type {\n",
       "        vertical-align: middle;\n",
       "    }\n",
       "\n",
       "    .dataframe tbody tr th {\n",
       "        vertical-align: top;\n",
       "    }\n",
       "\n",
       "    .dataframe thead th {\n",
       "        text-align: right;\n",
       "    }\n",
       "</style>\n",
       "<table border=\"1\" class=\"dataframe\">\n",
       "  <thead>\n",
       "    <tr style=\"text-align: right;\">\n",
       "      <th></th>\n",
       "      <th>Gram</th>\n",
       "      <th>Arhar</th>\n",
       "      <th>Moong</th>\n",
       "      <th>Masur</th>\n",
       "      <th>Urad</th>\n",
       "      <th>ARIMA_predistion</th>\n",
       "    </tr>\n",
       "    <tr>\n",
       "      <th>Date</th>\n",
       "      <th></th>\n",
       "      <th></th>\n",
       "      <th></th>\n",
       "      <th></th>\n",
       "      <th></th>\n",
       "      <th></th>\n",
       "    </tr>\n",
       "  </thead>\n",
       "  <tbody>\n",
       "    <tr>\n",
       "      <th>2020-04-01</th>\n",
       "      <td>146.7</td>\n",
       "      <td>155.7</td>\n",
       "      <td>174.2</td>\n",
       "      <td>149.7</td>\n",
       "      <td>180.6</td>\n",
       "      <td>136.669344</td>\n",
       "    </tr>\n",
       "    <tr>\n",
       "      <th>2020-05-01</th>\n",
       "      <td>144.8</td>\n",
       "      <td>157.0</td>\n",
       "      <td>179.7</td>\n",
       "      <td>150.8</td>\n",
       "      <td>187.7</td>\n",
       "      <td>136.558448</td>\n",
       "    </tr>\n",
       "    <tr>\n",
       "      <th>2020-06-01</th>\n",
       "      <td>143.8</td>\n",
       "      <td>158.6</td>\n",
       "      <td>176.1</td>\n",
       "      <td>155.1</td>\n",
       "      <td>184.0</td>\n",
       "      <td>137.535633</td>\n",
       "    </tr>\n",
       "    <tr>\n",
       "      <th>2020-07-01</th>\n",
       "      <td>144.3</td>\n",
       "      <td>160.1</td>\n",
       "      <td>173.6</td>\n",
       "      <td>157.5</td>\n",
       "      <td>181.7</td>\n",
       "      <td>138.094302</td>\n",
       "    </tr>\n",
       "    <tr>\n",
       "      <th>2020-08-01</th>\n",
       "      <td>144.8</td>\n",
       "      <td>160.9</td>\n",
       "      <td>170.4</td>\n",
       "      <td>158.0</td>\n",
       "      <td>180.9</td>\n",
       "      <td>139.661767</td>\n",
       "    </tr>\n",
       "    <tr>\n",
       "      <th>2020-09-01</th>\n",
       "      <td>154.8</td>\n",
       "      <td>165.8</td>\n",
       "      <td>164.3</td>\n",
       "      <td>159.0</td>\n",
       "      <td>177.6</td>\n",
       "      <td>140.840682</td>\n",
       "    </tr>\n",
       "    <tr>\n",
       "      <th>2020-10-01</th>\n",
       "      <td>163.6</td>\n",
       "      <td>173.6</td>\n",
       "      <td>162.6</td>\n",
       "      <td>162.8</td>\n",
       "      <td>181.5</td>\n",
       "      <td>141.903097</td>\n",
       "    </tr>\n",
       "    <tr>\n",
       "      <th>2020-11-01</th>\n",
       "      <td>164.3</td>\n",
       "      <td>174.5</td>\n",
       "      <td>165.1</td>\n",
       "      <td>166.3</td>\n",
       "      <td>188.1</td>\n",
       "      <td>143.535162</td>\n",
       "    </tr>\n",
       "    <tr>\n",
       "      <th>2020-12-01</th>\n",
       "      <td>159.8</td>\n",
       "      <td>169.1</td>\n",
       "      <td>168.5</td>\n",
       "      <td>163.8</td>\n",
       "      <td>191.0</td>\n",
       "      <td>144.376773</td>\n",
       "    </tr>\n",
       "    <tr>\n",
       "      <th>2021-01-01</th>\n",
       "      <td>155.6</td>\n",
       "      <td>166.8</td>\n",
       "      <td>166.7</td>\n",
       "      <td>165.4</td>\n",
       "      <td>194.0</td>\n",
       "      <td>145.689919</td>\n",
       "    </tr>\n",
       "    <tr>\n",
       "      <th>2021-02-01</th>\n",
       "      <td>156.3</td>\n",
       "      <td>173.2</td>\n",
       "      <td>169.7</td>\n",
       "      <td>166.3</td>\n",
       "      <td>196.6</td>\n",
       "      <td>146.897699</td>\n",
       "    </tr>\n",
       "    <tr>\n",
       "      <th>2021-03-01</th>\n",
       "      <td>159.6</td>\n",
       "      <td>175.0</td>\n",
       "      <td>169.1</td>\n",
       "      <td>168.4</td>\n",
       "      <td>196.7</td>\n",
       "      <td>147.648079</td>\n",
       "    </tr>\n",
       "  </tbody>\n",
       "</table>\n",
       "</div>"
      ],
      "text/plain": [
       "             Gram  Arhar  Moong  Masur   Urad  ARIMA_predistion\n",
       "Date                                                           \n",
       "2020-04-01  146.7  155.7  174.2  149.7  180.6        136.669344\n",
       "2020-05-01  144.8  157.0  179.7  150.8  187.7        136.558448\n",
       "2020-06-01  143.8  158.6  176.1  155.1  184.0        137.535633\n",
       "2020-07-01  144.3  160.1  173.6  157.5  181.7        138.094302\n",
       "2020-08-01  144.8  160.9  170.4  158.0  180.9        139.661767\n",
       "2020-09-01  154.8  165.8  164.3  159.0  177.6        140.840682\n",
       "2020-10-01  163.6  173.6  162.6  162.8  181.5        141.903097\n",
       "2020-11-01  164.3  174.5  165.1  166.3  188.1        143.535162\n",
       "2020-12-01  159.8  169.1  168.5  163.8  191.0        144.376773\n",
       "2021-01-01  155.6  166.8  166.7  165.4  194.0        145.689919\n",
       "2021-02-01  156.3  173.2  169.7  166.3  196.6        146.897699\n",
       "2021-03-01  159.6  175.0  169.1  168.4  196.7        147.648079"
      ]
     },
     "execution_count": 82,
     "metadata": {},
     "output_type": "execute_result"
    }
   ],
   "source": [
    "test"
   ]
  },
  {
   "cell_type": "code",
   "execution_count": 83,
   "metadata": {},
   "outputs": [
    {
     "data": {
      "text/plain": [
       "2020-04-01    136.669344\n",
       "2020-05-01    136.558448\n",
       "2020-06-01    137.535633\n",
       "2020-07-01    138.094302\n",
       "2020-08-01    139.661767\n",
       "2020-09-01    140.840682\n",
       "2020-10-01    141.903097\n",
       "2020-11-01    143.535162\n",
       "2020-12-01    144.376773\n",
       "2021-01-01    145.689919\n",
       "2021-02-01    146.897699\n",
       "2021-03-01    147.648079\n",
       "Freq: MS, Name: ARIMA(4,1,3)-predictions, dtype: float64"
      ]
     },
     "execution_count": 83,
     "metadata": {},
     "output_type": "execute_result"
    }
   ],
   "source": [
    "prediction_gram"
   ]
  },
  {
   "cell_type": "code",
   "execution_count": 84,
   "metadata": {},
   "outputs": [],
   "source": [
    "predicted_mu = result_gram.forecast()[0]"
   ]
  },
  {
   "cell_type": "code",
   "execution_count": 85,
   "metadata": {},
   "outputs": [
    {
     "data": {
      "text/plain": [
       "array([136.66934416])"
      ]
     },
     "execution_count": 85,
     "metadata": {},
     "output_type": "execute_result"
    }
   ],
   "source": [
    "predicted_mu"
   ]
  },
  {
   "cell_type": "code",
   "execution_count": 86,
   "metadata": {},
   "outputs": [],
   "source": [
    "garch_forecast = results_garch.forecast(horizon=1)"
   ]
  },
  {
   "cell_type": "code",
   "execution_count": 87,
   "metadata": {},
   "outputs": [],
   "source": [
    "predicted_et = garch_forecast.mean['h.1'].iloc[-1]"
   ]
  },
  {
   "cell_type": "code",
   "execution_count": 88,
   "metadata": {},
   "outputs": [
    {
     "data": {
      "text/plain": [
       "-0.7228647504939499"
      ]
     },
     "execution_count": 88,
     "metadata": {},
     "output_type": "execute_result"
    }
   ],
   "source": [
    "predicted_et"
   ]
  },
  {
   "cell_type": "code",
   "execution_count": 89,
   "metadata": {},
   "outputs": [],
   "source": [
    "prediction = predicted_mu+predicted_et"
   ]
  },
  {
   "cell_type": "code",
   "execution_count": 90,
   "metadata": {},
   "outputs": [],
   "source": [
    "prediction_GARCH = prediction_gram+rolling_predictions"
   ]
  },
  {
   "cell_type": "code",
   "execution_count": 91,
   "metadata": {},
   "outputs": [
    {
     "data": {
      "text/plain": [
       "2020-04-01    139.034467\n",
       "2020-05-01    141.497556\n",
       "2020-06-01    142.781135\n",
       "2020-07-01    142.823478\n",
       "2020-08-01    143.928625\n",
       "2020-09-01    144.717011\n",
       "2020-10-01    147.634625\n",
       "2020-11-01    148.843617\n",
       "2020-12-01    149.241641\n",
       "2021-01-01    150.544791\n",
       "2021-02-01    151.324507\n",
       "2021-03-01    152.054823\n",
       "Freq: MS, dtype: float64"
      ]
     },
     "execution_count": 91,
     "metadata": {},
     "output_type": "execute_result"
    }
   ],
   "source": [
    "prediction_GARCH"
   ]
  },
  {
   "cell_type": "code",
   "execution_count": 92,
   "metadata": {},
   "outputs": [
    {
     "data": {
      "text/plain": [
       "8.601467844435726"
      ]
     },
     "execution_count": 92,
     "metadata": {},
     "output_type": "execute_result"
    }
   ],
   "source": [
    "rmse(test['Gram'],prediction_GARCH)"
   ]
  },
  {
   "cell_type": "code",
   "execution_count": 93,
   "metadata": {},
   "outputs": [
    {
     "data": {
      "text/plain": [
       "(12,)"
      ]
     },
     "execution_count": 93,
     "metadata": {},
     "output_type": "execute_result"
    }
   ],
   "source": [
    "prediction_GARCH.shape"
   ]
  },
  {
   "cell_type": "code",
   "execution_count": 94,
   "metadata": {},
   "outputs": [
    {
     "data": {
      "text/plain": [
       "(12,)"
      ]
     },
     "execution_count": 94,
     "metadata": {},
     "output_type": "execute_result"
    }
   ],
   "source": [
    "test['Gram'].shape"
   ]
  },
  {
   "cell_type": "code",
   "execution_count": 95,
   "metadata": {},
   "outputs": [
    {
     "data": {
      "text/plain": [
       "(12,)"
      ]
     },
     "execution_count": 95,
     "metadata": {},
     "output_type": "execute_result"
    }
   ],
   "source": [
    "prediction_gram.shape"
   ]
  },
  {
   "cell_type": "code",
   "execution_count": 96,
   "metadata": {},
   "outputs": [
    {
     "data": {
      "text/plain": [
       "73.98524907886178"
      ]
     },
     "execution_count": 96,
     "metadata": {},
     "output_type": "execute_result"
    }
   ],
   "source": [
    "mse(test['Gram'],prediction_GARCH)"
   ]
  },
  {
   "cell_type": "code",
   "execution_count": 97,
   "metadata": {},
   "outputs": [],
   "source": [
    "from diebold_mariano_test import cul_d_t,MAE,MSE,cul_DM,cul_P"
   ]
  },
  {
   "cell_type": "code",
   "execution_count": 98,
   "metadata": {},
   "outputs": [],
   "source": [
    "dm = cul_d_t(MAE,test['Gram'],prediction_gram,prediction_GARCH)"
   ]
  },
  {
   "cell_type": "code",
   "execution_count": 99,
   "metadata": {},
   "outputs": [
    {
     "data": {
      "text/plain": [
       "19.259711440420542"
      ]
     },
     "execution_count": 99,
     "metadata": {},
     "output_type": "execute_result"
    }
   ],
   "source": [
    "cul_DM(dm)"
   ]
  },
  {
   "cell_type": "code",
   "execution_count": 100,
   "metadata": {},
   "outputs": [
    {
     "data": {
      "text/plain": [
       "1.1702887553351479e-82"
      ]
     },
     "execution_count": 100,
     "metadata": {},
     "output_type": "execute_result"
    }
   ],
   "source": [
    "cul_P(dm)"
   ]
  },
  {
   "cell_type": "code",
   "execution_count": 101,
   "metadata": {},
   "outputs": [
    {
     "data": {
      "text/plain": [
       "6.264366719781464"
      ]
     },
     "execution_count": 101,
     "metadata": {},
     "output_type": "execute_result"
    }
   ],
   "source": [
    "MAE(3,test['Gram'],prediction_gram)"
   ]
  },
  {
   "cell_type": "code",
   "execution_count": 102,
   "metadata": {},
   "outputs": [],
   "source": [
    "dm1=cul_d_t(MAE,test['Gram'],prediction_GARCH,prediction_gram)"
   ]
  },
  {
   "cell_type": "code",
   "execution_count": 103,
   "metadata": {},
   "outputs": [
    {
     "data": {
      "text/plain": [
       "-19.259711440420542"
      ]
     },
     "execution_count": 103,
     "metadata": {},
     "output_type": "execute_result"
    }
   ],
   "source": [
    "cul_DM(dm1)"
   ]
  },
  {
   "cell_type": "code",
   "execution_count": 104,
   "metadata": {},
   "outputs": [],
   "source": [
    "test['GARCH_prediction']= prediction_GARCH"
   ]
  },
  {
   "cell_type": "markdown",
   "metadata": {},
   "source": [
    "# ARIMA-LSTM"
   ]
  },
  {
   "cell_type": "markdown",
   "metadata": {},
   "source": [
    "### Lag estimation"
   ]
  },
  {
   "cell_type": "code",
   "execution_count": 210,
   "metadata": {},
   "outputs": [],
   "source": [
    "from statsmodels.tsa.stattools import acf\n",
    "from sklearn.ensemble import RandomForestRegressor\n",
    "from matplotlib import pyplot\n",
    "from pandas import DataFrame"
   ]
  },
  {
   "cell_type": "code",
   "execution_count": 242,
   "metadata": {},
   "outputs": [
    {
     "data": {
      "text/plain": [
       "(array([1.        , 0.23557632, 0.22347931, 0.61262342, 0.10637246,\n",
       "        0.11221097, 0.34406691, 0.04335195, 0.03796746, 0.14387201,\n",
       "        0.0085187 , 0.02813537, 0.054389  ]),\n",
       " array([ 18.09227944,  34.4248855 , 157.54332386, 161.26684326,\n",
       "        165.42335891, 204.6257401 , 205.25007276, 205.7304677 ,\n",
       "        212.65051151, 212.67484967, 212.94118982, 213.93968867]),\n",
       " array([2.10453038e-05, 3.34758100e-08, 6.21259218e-34, 7.82020123e-34,\n",
       "        6.90780479e-34, 1.96519049e-41, 8.86491539e-41, 3.95892659e-40,\n",
       "        7.33680732e-41, 3.64137635e-40, 1.52284426e-39, 4.27855807e-39]))"
      ]
     },
     "execution_count": 242,
     "metadata": {},
     "output_type": "execute_result"
    }
   ],
   "source": [
    "acf(FinalResult_gram.resid**2,nlags=12,qstat=True)"
   ]
  },
  {
   "cell_type": "code",
   "execution_count": 211,
   "metadata": {},
   "outputs": [
    {
     "data": {
      "image/png": "[encoded data removed]",
      "text/plain": [
       "<Figure size 432x288 with 1 Axes>"
      ]
     },
     "metadata": {
      "needs_background": "light"
     },
     "output_type": "display_data"
    }
   ],
   "source": [
    "plot_acf(FinalResult_gram.resid**2);"
   ]
  },
  {
   "cell_type": "code",
   "execution_count": 212,
   "metadata": {},
   "outputs": [],
   "source": [
    "df['resid'] = FinalResult_gram.resid**2"
   ]
  },
  {
   "cell_type": "code",
   "execution_count": 213,
   "metadata": {},
   "outputs": [
    {
     "data": {
      "text/html": [
       "<div>\n",
       "<style scoped>\n",
       "    .dataframe tbody tr th:only-of-type {\n",
       "        vertical-align: middle;\n",
       "    }\n",
       "\n",
       "    .dataframe tbody tr th {\n",
       "        vertical-align: top;\n",
       "    }\n",
       "\n",
       "    .dataframe thead th {\n",
       "        text-align: right;\n",
       "    }\n",
       "</style>\n",
       "<table border=\"1\" class=\"dataframe\">\n",
       "  <thead>\n",
       "    <tr style=\"text-align: right;\">\n",
       "      <th></th>\n",
       "      <th>Gram</th>\n",
       "      <th>Arhar</th>\n",
       "      <th>Moong</th>\n",
       "      <th>Masur</th>\n",
       "      <th>Urad</th>\n",
       "      <th>resid</th>\n",
       "    </tr>\n",
       "    <tr>\n",
       "      <th>Date</th>\n",
       "      <th></th>\n",
       "      <th></th>\n",
       "      <th></th>\n",
       "      <th></th>\n",
       "      <th></th>\n",
       "      <th></th>\n",
       "    </tr>\n",
       "  </thead>\n",
       "  <tbody>\n",
       "    <tr>\n",
       "      <th>1994-04-01</th>\n",
       "      <td>32.83</td>\n",
       "      <td>35.10</td>\n",
       "      <td>25.21</td>\n",
       "      <td>28.99</td>\n",
       "      <td>28.64</td>\n",
       "      <td>NaN</td>\n",
       "    </tr>\n",
       "    <tr>\n",
       "      <th>1994-05-01</th>\n",
       "      <td>33.48</td>\n",
       "      <td>34.55</td>\n",
       "      <td>25.42</td>\n",
       "      <td>28.84</td>\n",
       "      <td>30.09</td>\n",
       "      <td>0.036839</td>\n",
       "    </tr>\n",
       "    <tr>\n",
       "      <th>1994-06-01</th>\n",
       "      <td>33.19</td>\n",
       "      <td>35.24</td>\n",
       "      <td>25.03</td>\n",
       "      <td>30.31</td>\n",
       "      <td>29.96</td>\n",
       "      <td>0.715592</td>\n",
       "    </tr>\n",
       "    <tr>\n",
       "      <th>1994-07-01</th>\n",
       "      <td>34.65</td>\n",
       "      <td>36.14</td>\n",
       "      <td>23.92</td>\n",
       "      <td>32.58</td>\n",
       "      <td>31.39</td>\n",
       "      <td>2.042354</td>\n",
       "    </tr>\n",
       "    <tr>\n",
       "      <th>1994-08-01</th>\n",
       "      <td>37.51</td>\n",
       "      <td>36.86</td>\n",
       "      <td>23.66</td>\n",
       "      <td>33.79</td>\n",
       "      <td>32.48</td>\n",
       "      <td>3.142744</td>\n",
       "    </tr>\n",
       "    <tr>\n",
       "      <th>...</th>\n",
       "      <td>...</td>\n",
       "      <td>...</td>\n",
       "      <td>...</td>\n",
       "      <td>...</td>\n",
       "      <td>...</td>\n",
       "      <td>...</td>\n",
       "    </tr>\n",
       "    <tr>\n",
       "      <th>2020-11-01</th>\n",
       "      <td>164.30</td>\n",
       "      <td>174.50</td>\n",
       "      <td>165.10</td>\n",
       "      <td>166.30</td>\n",
       "      <td>188.10</td>\n",
       "      <td>6.861251</td>\n",
       "    </tr>\n",
       "    <tr>\n",
       "      <th>2020-12-01</th>\n",
       "      <td>159.80</td>\n",
       "      <td>169.10</td>\n",
       "      <td>168.50</td>\n",
       "      <td>163.80</td>\n",
       "      <td>191.00</td>\n",
       "      <td>27.279056</td>\n",
       "    </tr>\n",
       "    <tr>\n",
       "      <th>2021-01-01</th>\n",
       "      <td>155.60</td>\n",
       "      <td>166.80</td>\n",
       "      <td>166.70</td>\n",
       "      <td>165.40</td>\n",
       "      <td>194.00</td>\n",
       "      <td>4.005568</td>\n",
       "    </tr>\n",
       "    <tr>\n",
       "      <th>2021-02-01</th>\n",
       "      <td>156.30</td>\n",
       "      <td>173.20</td>\n",
       "      <td>169.70</td>\n",
       "      <td>166.30</td>\n",
       "      <td>196.60</td>\n",
       "      <td>11.681564</td>\n",
       "    </tr>\n",
       "    <tr>\n",
       "      <th>2021-03-01</th>\n",
       "      <td>159.60</td>\n",
       "      <td>175.00</td>\n",
       "      <td>169.10</td>\n",
       "      <td>168.40</td>\n",
       "      <td>196.70</td>\n",
       "      <td>2.198591</td>\n",
       "    </tr>\n",
       "  </tbody>\n",
       "</table>\n",
       "<p>324 rows × 6 columns</p>\n",
       "</div>"
      ],
      "text/plain": [
       "              Gram   Arhar   Moong   Masur    Urad      resid\n",
       "Date                                                         \n",
       "1994-04-01   32.83   35.10   25.21   28.99   28.64        NaN\n",
       "1994-05-01   33.48   34.55   25.42   28.84   30.09   0.036839\n",
       "1994-06-01   33.19   35.24   25.03   30.31   29.96   0.715592\n",
       "1994-07-01   34.65   36.14   23.92   32.58   31.39   2.042354\n",
       "1994-08-01   37.51   36.86   23.66   33.79   32.48   3.142744\n",
       "...            ...     ...     ...     ...     ...        ...\n",
       "2020-11-01  164.30  174.50  165.10  166.30  188.10   6.861251\n",
       "2020-12-01  159.80  169.10  168.50  163.80  191.00  27.279056\n",
       "2021-01-01  155.60  166.80  166.70  165.40  194.00   4.005568\n",
       "2021-02-01  156.30  173.20  169.70  166.30  196.60  11.681564\n",
       "2021-03-01  159.60  175.00  169.10  168.40  196.70   2.198591\n",
       "\n",
       "[324 rows x 6 columns]"
      ]
     },
     "execution_count": 213,
     "metadata": {},
     "output_type": "execute_result"
    }
   ],
   "source": [
    "df"
   ]
  },
  {
   "cell_type": "code",
   "execution_count": 214,
   "metadata": {},
   "outputs": [
    {
     "data": {
      "text/html": [
       "<div>\n",
       "<style scoped>\n",
       "    .dataframe tbody tr th:only-of-type {\n",
       "        vertical-align: middle;\n",
       "    }\n",
       "\n",
       "    .dataframe tbody tr th {\n",
       "        vertical-align: top;\n",
       "    }\n",
       "\n",
       "    .dataframe thead th {\n",
       "        text-align: right;\n",
       "    }\n",
       "</style>\n",
       "<table border=\"1\" class=\"dataframe\">\n",
       "  <thead>\n",
       "    <tr style=\"text-align: right;\">\n",
       "      <th></th>\n",
       "      <th>resid</th>\n",
       "    </tr>\n",
       "    <tr>\n",
       "      <th>Date</th>\n",
       "      <th></th>\n",
       "    </tr>\n",
       "  </thead>\n",
       "  <tbody>\n",
       "    <tr>\n",
       "      <th>1994-05-01</th>\n",
       "      <td>0.036839</td>\n",
       "    </tr>\n",
       "    <tr>\n",
       "      <th>1994-06-01</th>\n",
       "      <td>0.715592</td>\n",
       "    </tr>\n",
       "    <tr>\n",
       "      <th>1994-07-01</th>\n",
       "      <td>2.042354</td>\n",
       "    </tr>\n",
       "    <tr>\n",
       "      <th>1994-08-01</th>\n",
       "      <td>3.142744</td>\n",
       "    </tr>\n",
       "    <tr>\n",
       "      <th>1994-09-01</th>\n",
       "      <td>0.805924</td>\n",
       "    </tr>\n",
       "  </tbody>\n",
       "</table>\n",
       "</div>"
      ],
      "text/plain": [
       "               resid\n",
       "Date                \n",
       "1994-05-01  0.036839\n",
       "1994-06-01  0.715592\n",
       "1994-07-01  2.042354\n",
       "1994-08-01  3.142744\n",
       "1994-09-01  0.805924"
      ]
     },
     "execution_count": 214,
     "metadata": {},
     "output_type": "execute_result"
    }
   ],
   "source": [
    "mylist= ['resid']\n",
    "\n",
    "df1 = df[mylist][1:]\n",
    "df1.head()"
   ]
  },
  {
   "cell_type": "code",
   "execution_count": 228,
   "metadata": {},
   "outputs": [
    {
     "name": "stdout",
     "output_type": "stream",
     "text": [
      "        t-9       t-8       t-7       t-6       t-5       t-4       t-3  \\\n",
      "0       NaN       NaN       NaN       NaN       NaN       NaN       NaN   \n",
      "1       NaN       NaN       NaN       NaN       NaN       NaN       NaN   \n",
      "2       NaN       NaN       NaN       NaN       NaN       NaN       NaN   \n",
      "3       NaN       NaN       NaN       NaN       NaN       NaN  0.036839   \n",
      "4       NaN       NaN       NaN       NaN       NaN  0.036839  0.715592   \n",
      "5       NaN       NaN       NaN       NaN  0.036839  0.715592  2.042354   \n",
      "6       NaN       NaN       NaN  0.036839  0.715592  2.042354  3.142744   \n",
      "7       NaN       NaN  0.036839  0.715592  2.042354  3.142744  0.805924   \n",
      "8       NaN  0.036839  0.715592  2.042354  3.142744  0.805924  3.441944   \n",
      "9  0.036839  0.715592  2.042354  3.142744  0.805924  3.441944  5.552630   \n",
      "\n",
      "        t-2       t-1         t  \n",
      "0       NaN       NaN  0.036839  \n",
      "1       NaN  0.036839  0.715592  \n",
      "2  0.036839  0.715592  2.042354  \n",
      "3  0.715592  2.042354  3.142744  \n",
      "4  2.042354  3.142744  0.805924  \n",
      "5  3.142744  0.805924  3.441944  \n",
      "6  0.805924  3.441944  5.552630  \n",
      "7  3.441944  5.552630  4.148065  \n",
      "8  5.552630  4.148065  3.867229  \n",
      "9  4.148065  3.867229  1.220332  \n"
     ]
    }
   ],
   "source": [
    "dataframe = DataFrame()\n",
    "for i in range(9,0,-1):\n",
    "    dataframe['t-'+str(i)] = df1.shift(i).values[:,0]\n",
    "dataframe['t'] = df1.values[:,0]\n",
    "print(dataframe.head(10))\n",
    "dataframe = dataframe[10:]"
   ]
  },
  {
   "cell_type": "code",
   "execution_count": 230,
   "metadata": {},
   "outputs": [],
   "source": [
    "dataframe.to_csv('lags_12months_features.csv', index=False)"
   ]
  },
  {
   "cell_type": "code",
   "execution_count": 231,
   "metadata": {},
   "outputs": [],
   "source": [
    "dataframe = pd.read_csv('lags_12months_features.csv', header=0)\n",
    "array = dataframe.values"
   ]
  },
  {
   "cell_type": "code",
   "execution_count": 232,
   "metadata": {},
   "outputs": [],
   "source": [
    "X = array[:,0:-1]\n",
    "y = array[:,-1]"
   ]
  },
  {
   "cell_type": "code",
   "execution_count": 233,
   "metadata": {},
   "outputs": [
    {
     "data": {
      "text/plain": [
       "RandomForestRegressor(random_state=1)"
      ]
     },
     "execution_count": 233,
     "metadata": {},
     "output_type": "execute_result"
    }
   ],
   "source": [
    "model = RandomForestRegressor(n_estimators=100, random_state=1)\n",
    "model.fit(X, y)"
   ]
  },
  {
   "cell_type": "code",
   "execution_count": 234,
   "metadata": {},
   "outputs": [
    {
     "name": "stdout",
     "output_type": "stream",
     "text": [
      "[0.03310297 0.09534721 0.09854111 0.05981243 0.01750637 0.00902432\n",
      " 0.51936637 0.04251423 0.12478499]\n"
     ]
    }
   ],
   "source": [
    "print(model.feature_importances_)"
   ]
  },
  {
   "cell_type": "code",
   "execution_count": 235,
   "metadata": {},
   "outputs": [
    {
     "data": {
      "image/png": "[encoded data removed]",
      "text/plain": [
       "<Figure size 432x288 with 1 Axes>"
      ]
     },
     "metadata": {
      "needs_background": "light"
     },
     "output_type": "display_data"
    }
   ],
   "source": [
    "names = dataframe.columns.values[0:-1]\n",
    "ticks = [i for i in range(len(names))]\n",
    "pyplot.bar(ticks, model.feature_importances_)\n",
    "pyplot.xticks(ticks, names)\n",
    "pyplot.xlabel('input_lag_estimation')\n",
    "pyplot.show()"
   ]
  },
  {
   "cell_type": "code",
   "execution_count": null,
   "metadata": {},
   "outputs": [],
   "source": []
  },
  {
   "cell_type": "code",
   "execution_count": null,
   "metadata": {},
   "outputs": [],
   "source": []
  },
  {
   "cell_type": "code",
   "execution_count": null,
   "metadata": {},
   "outputs": [],
   "source": []
  },
  {
   "cell_type": "code",
   "execution_count": null,
   "metadata": {},
   "outputs": [],
   "source": []
  },
  {
   "cell_type": "code",
   "execution_count": 117,
   "metadata": {},
   "outputs": [
    {
     "name": "stdout",
     "output_type": "stream",
     "text": [
      "<class 'pandas.core.frame.DataFrame'>\n",
      "DatetimeIndex: 323 entries, 1994-05-01 to 2021-03-01\n",
      "Freq: MS\n",
      "Data columns (total 1 columns):\n",
      " #   Column  Non-Null Count  Dtype  \n",
      "---  ------  --------------  -----  \n",
      " 0   resid   323 non-null    float64\n",
      "dtypes: float64(1)\n",
      "memory usage: 5.0 KB\n"
     ]
    }
   ],
   "source": [
    "df1.info()"
   ]
  },
  {
   "cell_type": "code",
   "execution_count": 118,
   "metadata": {},
   "outputs": [],
   "source": [
    "train_resid = df1.iloc[:311]\n",
    "test_resid = df1.iloc[311:]"
   ]
  },
  {
   "cell_type": "code",
   "execution_count": 119,
   "metadata": {},
   "outputs": [],
   "source": [
    "from sklearn.preprocessing import MinMaxScaler"
   ]
  },
  {
   "cell_type": "code",
   "execution_count": 120,
   "metadata": {},
   "outputs": [
    {
     "data": {
      "text/plain": [
       "MinMaxScaler()"
      ]
     },
     "execution_count": 120,
     "metadata": {},
     "output_type": "execute_result"
    }
   ],
   "source": [
    "scaler = MinMaxScaler()\n",
    "scaler.fit(train_resid)"
   ]
  },
  {
   "cell_type": "code",
   "execution_count": 121,
   "metadata": {},
   "outputs": [],
   "source": [
    "scaled_train = scaler.transform(train_resid)\n",
    "scaled_test = scaler.transform(test_resid)"
   ]
  },
  {
   "cell_type": "code",
   "execution_count": 122,
   "metadata": {},
   "outputs": [],
   "source": [
    "from keras.preprocessing.sequence import TimeseriesGenerator"
   ]
  },
  {
   "cell_type": "code",
   "execution_count": 188,
   "metadata": {},
   "outputs": [],
   "source": [
    "# Define the generator\n",
    "n_input = 3 # how many data will estimate the next time stand value.\n",
    "n_features = 1\n",
    "\n",
    "train_generator = TimeseriesGenerator(scaled_train,scaled_train,length=n_input,batch_size=1)"
   ]
  },
  {
   "cell_type": "code",
   "execution_count": 189,
   "metadata": {},
   "outputs": [],
   "source": [
    "from keras.models import Sequential\n",
    "from keras.layers import Dense, LSTM, Dropout\n",
    "from keras.utils import plot_model"
   ]
  },
  {
   "cell_type": "code",
   "execution_count": 190,
   "metadata": {},
   "outputs": [],
   "source": [
    "model = Sequential()\n",
    "\n",
    "model.add(LSTM(66, activation='relu', input_shape =(n_input,n_features)))    #relu = rectified linear unit\n",
    "model.add(Dense(1))\n",
    "model.compile(optimizer='adam',loss='mse')"
   ]
  },
  {
   "cell_type": "code",
   "execution_count": 191,
   "metadata": {},
   "outputs": [
    {
     "name": "stdout",
     "output_type": "stream",
     "text": [
      "Model: \"sequential_3\"\n",
      "_________________________________________________________________\n",
      "Layer (type)                 Output Shape              Param #   \n",
      "=================================================================\n",
      "lstm_3 (LSTM)                (None, 66)                17952     \n",
      "_________________________________________________________________\n",
      "dense_3 (Dense)              (None, 1)                 67        \n",
      "=================================================================\n",
      "Total params: 18,019\n",
      "Trainable params: 18,019\n",
      "Non-trainable params: 0\n",
      "_________________________________________________________________\n"
     ]
    }
   ],
   "source": [
    "model.summary()"
   ]
  },
  {
   "cell_type": "code",
   "execution_count": 192,
   "metadata": {},
   "outputs": [
    {
     "data": {
      "image/png": "[encoded data removed]",
      "text/plain": [
       "<IPython.core.display.Image object>"
      ]
     },
     "execution_count": 192,
     "metadata": {},
     "output_type": "execute_result"
    }
   ],
   "source": [
    "plot_model(model,show_shapes=True)"
   ]
  },
  {
   "cell_type": "code",
   "execution_count": 193,
   "metadata": {},
   "outputs": [
    {
     "name": "stdout",
     "output_type": "stream",
     "text": [
      "Epoch 1/25\n",
      "308/308 [==============================] - 0s 1ms/step - loss: 0.0100\n",
      "Epoch 2/25\n",
      "308/308 [==============================] - 0s 1ms/step - loss: 0.0092\n",
      "Epoch 3/25\n",
      "308/308 [==============================] - 0s 1ms/step - loss: 0.0086\n",
      "Epoch 4/25\n",
      "308/308 [==============================] - 0s 1ms/step - loss: 0.0081\n",
      "Epoch 5/25\n",
      "308/308 [==============================] - 0s 1ms/step - loss: 0.0075\n",
      "Epoch 6/25\n",
      "308/308 [==============================] - 0s 1ms/step - loss: 0.0077\n",
      "Epoch 7/25\n",
      "308/308 [==============================] - 0s 1ms/step - loss: 0.0067\n",
      "Epoch 8/25\n",
      "308/308 [==============================] - 0s 1ms/step - loss: 0.0075\n",
      "Epoch 9/25\n",
      "308/308 [==============================] - 0s 1ms/step - loss: 0.0070\n",
      "Epoch 10/25\n",
      "308/308 [==============================] - 0s 1ms/step - loss: 0.0072\n",
      "Epoch 11/25\n",
      "308/308 [==============================] - 0s 1ms/step - loss: 0.0071\n",
      "Epoch 12/25\n",
      "308/308 [==============================] - 0s 1ms/step - loss: 0.0071\n",
      "Epoch 13/25\n",
      "308/308 [==============================] - 0s 1ms/step - loss: 0.0072\n",
      "Epoch 14/25\n",
      "308/308 [==============================] - 0s 1ms/step - loss: 0.0068\n",
      "Epoch 15/25\n",
      "308/308 [==============================] - 0s 1ms/step - loss: 0.0069\n",
      "Epoch 16/25\n",
      "308/308 [==============================] - 0s 1ms/step - loss: 0.0070\n",
      "Epoch 17/25\n",
      "308/308 [==============================] - 0s 1ms/step - loss: 0.0073\n",
      "Epoch 18/25\n",
      "308/308 [==============================] - 0s 1ms/step - loss: 0.0073\n",
      "Epoch 19/25\n",
      "308/308 [==============================] - 0s 1ms/step - loss: 0.0070\n",
      "Epoch 20/25\n",
      "308/308 [==============================] - 0s 1ms/step - loss: 0.0065\n",
      "Epoch 21/25\n",
      "308/308 [==============================] - 0s 1ms/step - loss: 0.0066\n",
      "Epoch 22/25\n",
      "308/308 [==============================] - 0s 1ms/step - loss: 0.0068\n",
      "Epoch 23/25\n",
      "308/308 [==============================] - 0s 1ms/step - loss: 0.0070\n",
      "Epoch 24/25\n",
      "308/308 [==============================] - 0s 1ms/step - loss: 0.0066\n",
      "Epoch 25/25\n",
      "308/308 [==============================] - 0s 1ms/step - loss: 0.0062\n"
     ]
    },
    {
     "data": {
      "text/plain": [
       "<tensorflow.python.keras.callbacks.History at 0x7f82835b8580>"
      ]
     },
     "execution_count": 193,
     "metadata": {},
     "output_type": "execute_result"
    }
   ],
   "source": [
    "model.fit(train_generator, epochs=25)"
   ]
  },
  {
   "cell_type": "code",
   "execution_count": 194,
   "metadata": {},
   "outputs": [
    {
     "data": {
      "text/plain": [
       "[<matplotlib.lines.Line2D at 0x7f8284312040>]"
      ]
     },
     "execution_count": 194,
     "metadata": {},
     "output_type": "execute_result"
    },
    {
     "data": {
      "image/png": "[encoded data removed]",
      "text/plain": [
       "<Figure size 432x288 with 1 Axes>"
      ]
     },
     "metadata": {
      "needs_background": "light"
     },
     "output_type": "display_data"
    }
   ],
   "source": [
    "myloss = model.history.history['loss']\n",
    "\n",
    "plt.plot(range(len(myloss)),myloss)"
   ]
  },
  {
   "cell_type": "code",
   "execution_count": 195,
   "metadata": {},
   "outputs": [],
   "source": [
    "# Holding my prediction\n",
    "test_prediction = []\n",
    "\n",
    "# Last n_input point from the train set\n",
    "first_eval_batch= scaled_train[-n_input:]\n",
    "\n",
    "# Reshape this to the RNN format. same as TimeSeriesGenarator\n",
    "current_batch = first_eval_batch.reshape((1,n_input,n_features))\n",
    "\n",
    "# How far will we forecast?\n",
    "\n",
    "for i in range(len(test)):\n",
    "    current_pred = model.predict(current_batch)[0]\n",
    "    \n",
    "    test_prediction.append(current_pred)\n",
    "    \n",
    "    current_batch= np.append(current_batch[:,1:],[[current_pred]],axis=1)"
   ]
  },
  {
   "cell_type": "code",
   "execution_count": 196,
   "metadata": {},
   "outputs": [
    {
     "data": {
      "text/plain": [
       "[array([0.00990271], dtype=float32),\n",
       " array([0.01021307], dtype=float32),\n",
       " array([0.01017763], dtype=float32),\n",
       " array([0.01036184], dtype=float32),\n",
       " array([0.01038051], dtype=float32),\n",
       " array([0.01038409], dtype=float32),\n",
       " array([0.01039338], dtype=float32),\n",
       " array([0.01039467], dtype=float32),\n",
       " array([0.01039511], dtype=float32),\n",
       " array([0.0103956], dtype=float32),\n",
       " array([0.01039569], dtype=float32),\n",
       " array([0.01039572], dtype=float32)]"
      ]
     },
     "execution_count": 196,
     "metadata": {},
     "output_type": "execute_result"
    }
   ],
   "source": [
    "test_prediction"
   ]
  },
  {
   "cell_type": "code",
   "execution_count": 197,
   "metadata": {},
   "outputs": [],
   "source": [
    "true_prediction = scaler.inverse_transform(test_prediction)"
   ]
  },
  {
   "cell_type": "code",
   "execution_count": 198,
   "metadata": {},
   "outputs": [
    {
     "data": {
      "text/plain": [
       "array([[10.38939803],\n",
       "       [10.71501211],\n",
       "       [10.67783375],\n",
       "       [10.87109675],\n",
       "       [10.89068159],\n",
       "       [10.89444242],\n",
       "       [10.90418599],\n",
       "       [10.90553535],\n",
       "       [10.90599947],\n",
       "       [10.90651147],\n",
       "       [10.90660429],\n",
       "       [10.90663947]])"
      ]
     },
     "execution_count": 198,
     "metadata": {},
     "output_type": "execute_result"
    }
   ],
   "source": [
    "true_prediction"
   ]
  },
  {
   "cell_type": "code",
   "execution_count": 199,
   "metadata": {},
   "outputs": [
    {
     "data": {
      "text/plain": [
       "Date\n",
       "2020-04-01    79.939787\n",
       "2020-05-01    45.309190\n",
       "2020-06-01     0.059316\n",
       "2020-07-01     0.100066\n",
       "2020-08-01     0.011866\n",
       "2020-09-01    87.085379\n",
       "2020-10-01     4.828716\n",
       "2020-11-01     6.861251\n",
       "2020-12-01    27.279056\n",
       "2021-01-01     4.005568\n",
       "2021-02-01    11.681564\n",
       "2021-03-01     2.198591\n",
       "Freq: MS, Name: resid, dtype: float64"
      ]
     },
     "execution_count": 199,
     "metadata": {},
     "output_type": "execute_result"
    }
   ],
   "source": [
    "test_resid['resid']"
   ]
  },
  {
   "cell_type": "code",
   "execution_count": 250,
   "metadata": {},
   "outputs": [],
   "source": [
    "test_resid['prediction Volatility ARIMA-LSTM(Random_Forest)'] = true_prediction"
   ]
  },
  {
   "cell_type": "code",
   "execution_count": 253,
   "metadata": {},
   "outputs": [],
   "source": [
    "test_resid['Prediction Volatility ARIMA-GARCH']= rolling_predictions\n",
    "test_resid['true Volatility']= resid_test\n",
    "test_resid.to_csv('Gram volatility.csv')"
   ]
  },
  {
   "cell_type": "code",
   "execution_count": 202,
   "metadata": {},
   "outputs": [],
   "source": [
    "test['ARIMA-LSTM_Pred']= test['ARIMA_predistion']+test_resid['prediction']"
   ]
  },
  {
   "cell_type": "code",
   "execution_count": 203,
   "metadata": {},
   "outputs": [
    {
     "data": {
      "text/html": [
       "<div>\n",
       "<style scoped>\n",
       "    .dataframe tbody tr th:only-of-type {\n",
       "        vertical-align: middle;\n",
       "    }\n",
       "\n",
       "    .dataframe tbody tr th {\n",
       "        vertical-align: top;\n",
       "    }\n",
       "\n",
       "    .dataframe thead th {\n",
       "        text-align: right;\n",
       "    }\n",
       "</style>\n",
       "<table border=\"1\" class=\"dataframe\">\n",
       "  <thead>\n",
       "    <tr style=\"text-align: right;\">\n",
       "      <th></th>\n",
       "      <th>Gram</th>\n",
       "      <th>Arhar</th>\n",
       "      <th>Moong</th>\n",
       "      <th>Masur</th>\n",
       "      <th>Urad</th>\n",
       "      <th>ARIMA_predistion</th>\n",
       "      <th>GARCH_prediction</th>\n",
       "      <th>ARIMA-LSTM_Pred</th>\n",
       "    </tr>\n",
       "    <tr>\n",
       "      <th>Date</th>\n",
       "      <th></th>\n",
       "      <th></th>\n",
       "      <th></th>\n",
       "      <th></th>\n",
       "      <th></th>\n",
       "      <th></th>\n",
       "      <th></th>\n",
       "      <th></th>\n",
       "    </tr>\n",
       "  </thead>\n",
       "  <tbody>\n",
       "    <tr>\n",
       "      <th>2020-04-01</th>\n",
       "      <td>146.7</td>\n",
       "      <td>155.7</td>\n",
       "      <td>174.2</td>\n",
       "      <td>149.7</td>\n",
       "      <td>180.6</td>\n",
       "      <td>136.669344</td>\n",
       "      <td>139.034467</td>\n",
       "      <td>147.058742</td>\n",
       "    </tr>\n",
       "    <tr>\n",
       "      <th>2020-05-01</th>\n",
       "      <td>144.8</td>\n",
       "      <td>157.0</td>\n",
       "      <td>179.7</td>\n",
       "      <td>150.8</td>\n",
       "      <td>187.7</td>\n",
       "      <td>136.558448</td>\n",
       "      <td>141.497556</td>\n",
       "      <td>147.273460</td>\n",
       "    </tr>\n",
       "    <tr>\n",
       "      <th>2020-06-01</th>\n",
       "      <td>143.8</td>\n",
       "      <td>158.6</td>\n",
       "      <td>176.1</td>\n",
       "      <td>155.1</td>\n",
       "      <td>184.0</td>\n",
       "      <td>137.535633</td>\n",
       "      <td>142.781135</td>\n",
       "      <td>148.213467</td>\n",
       "    </tr>\n",
       "    <tr>\n",
       "      <th>2020-07-01</th>\n",
       "      <td>144.3</td>\n",
       "      <td>160.1</td>\n",
       "      <td>173.6</td>\n",
       "      <td>157.5</td>\n",
       "      <td>181.7</td>\n",
       "      <td>138.094302</td>\n",
       "      <td>142.823478</td>\n",
       "      <td>148.965399</td>\n",
       "    </tr>\n",
       "    <tr>\n",
       "      <th>2020-08-01</th>\n",
       "      <td>144.8</td>\n",
       "      <td>160.9</td>\n",
       "      <td>170.4</td>\n",
       "      <td>158.0</td>\n",
       "      <td>180.9</td>\n",
       "      <td>139.661767</td>\n",
       "      <td>143.928625</td>\n",
       "      <td>150.552448</td>\n",
       "    </tr>\n",
       "    <tr>\n",
       "      <th>2020-09-01</th>\n",
       "      <td>154.8</td>\n",
       "      <td>165.8</td>\n",
       "      <td>164.3</td>\n",
       "      <td>159.0</td>\n",
       "      <td>177.6</td>\n",
       "      <td>140.840682</td>\n",
       "      <td>144.717011</td>\n",
       "      <td>151.735124</td>\n",
       "    </tr>\n",
       "    <tr>\n",
       "      <th>2020-10-01</th>\n",
       "      <td>163.6</td>\n",
       "      <td>173.6</td>\n",
       "      <td>162.6</td>\n",
       "      <td>162.8</td>\n",
       "      <td>181.5</td>\n",
       "      <td>141.903097</td>\n",
       "      <td>147.634625</td>\n",
       "      <td>152.807283</td>\n",
       "    </tr>\n",
       "    <tr>\n",
       "      <th>2020-11-01</th>\n",
       "      <td>164.3</td>\n",
       "      <td>174.5</td>\n",
       "      <td>165.1</td>\n",
       "      <td>166.3</td>\n",
       "      <td>188.1</td>\n",
       "      <td>143.535162</td>\n",
       "      <td>148.843617</td>\n",
       "      <td>154.440697</td>\n",
       "    </tr>\n",
       "    <tr>\n",
       "      <th>2020-12-01</th>\n",
       "      <td>159.8</td>\n",
       "      <td>169.1</td>\n",
       "      <td>168.5</td>\n",
       "      <td>163.8</td>\n",
       "      <td>191.0</td>\n",
       "      <td>144.376773</td>\n",
       "      <td>149.241641</td>\n",
       "      <td>155.282772</td>\n",
       "    </tr>\n",
       "    <tr>\n",
       "      <th>2021-01-01</th>\n",
       "      <td>155.6</td>\n",
       "      <td>166.8</td>\n",
       "      <td>166.7</td>\n",
       "      <td>165.4</td>\n",
       "      <td>194.0</td>\n",
       "      <td>145.689919</td>\n",
       "      <td>150.544791</td>\n",
       "      <td>156.596431</td>\n",
       "    </tr>\n",
       "    <tr>\n",
       "      <th>2021-02-01</th>\n",
       "      <td>156.3</td>\n",
       "      <td>173.2</td>\n",
       "      <td>169.7</td>\n",
       "      <td>166.3</td>\n",
       "      <td>196.6</td>\n",
       "      <td>146.897699</td>\n",
       "      <td>151.324507</td>\n",
       "      <td>157.804304</td>\n",
       "    </tr>\n",
       "    <tr>\n",
       "      <th>2021-03-01</th>\n",
       "      <td>159.6</td>\n",
       "      <td>175.0</td>\n",
       "      <td>169.1</td>\n",
       "      <td>168.4</td>\n",
       "      <td>196.7</td>\n",
       "      <td>147.648079</td>\n",
       "      <td>152.054823</td>\n",
       "      <td>158.554719</td>\n",
       "    </tr>\n",
       "  </tbody>\n",
       "</table>\n",
       "</div>"
      ],
      "text/plain": [
       "             Gram  Arhar  Moong  Masur   Urad  ARIMA_predistion  \\\n",
       "Date                                                              \n",
       "2020-04-01  146.7  155.7  174.2  149.7  180.6        136.669344   \n",
       "2020-05-01  144.8  157.0  179.7  150.8  187.7        136.558448   \n",
       "2020-06-01  143.8  158.6  176.1  155.1  184.0        137.535633   \n",
       "2020-07-01  144.3  160.1  173.6  157.5  181.7        138.094302   \n",
       "2020-08-01  144.8  160.9  170.4  158.0  180.9        139.661767   \n",
       "2020-09-01  154.8  165.8  164.3  159.0  177.6        140.840682   \n",
       "2020-10-01  163.6  173.6  162.6  162.8  181.5        141.903097   \n",
       "2020-11-01  164.3  174.5  165.1  166.3  188.1        143.535162   \n",
       "2020-12-01  159.8  169.1  168.5  163.8  191.0        144.376773   \n",
       "2021-01-01  155.6  166.8  166.7  165.4  194.0        145.689919   \n",
       "2021-02-01  156.3  173.2  169.7  166.3  196.6        146.897699   \n",
       "2021-03-01  159.6  175.0  169.1  168.4  196.7        147.648079   \n",
       "\n",
       "            GARCH_prediction  ARIMA-LSTM_Pred  \n",
       "Date                                           \n",
       "2020-04-01        139.034467       147.058742  \n",
       "2020-05-01        141.497556       147.273460  \n",
       "2020-06-01        142.781135       148.213467  \n",
       "2020-07-01        142.823478       148.965399  \n",
       "2020-08-01        143.928625       150.552448  \n",
       "2020-09-01        144.717011       151.735124  \n",
       "2020-10-01        147.634625       152.807283  \n",
       "2020-11-01        148.843617       154.440697  \n",
       "2020-12-01        149.241641       155.282772  \n",
       "2021-01-01        150.544791       156.596431  \n",
       "2021-02-01        151.324507       157.804304  \n",
       "2021-03-01        152.054823       158.554719  "
      ]
     },
     "execution_count": 203,
     "metadata": {},
     "output_type": "execute_result"
    }
   ],
   "source": [
    "test"
   ]
  },
  {
   "cell_type": "code",
   "execution_count": 226,
   "metadata": {},
   "outputs": [
    {
     "data": {
      "text/plain": [
       "<AxesSubplot:xlabel='Date'>"
      ]
     },
     "execution_count": 226,
     "metadata": {},
     "output_type": "execute_result"
    },
    {
     "data": {
      "image/png": "[encoded data removed]",
      "text/plain": [
       "<Figure size 720x144 with 1 Axes>"
      ]
     },
     "metadata": {
      "needs_background": "light"
     },
     "output_type": "display_data"
    }
   ],
   "source": [
    "test['Gram'].plot(figsize=(10,2))\n",
    "test['ARIMA-LSTM_Pred'].plot()\n",
    "test['GARCH_prediction'].plot()"
   ]
  },
  {
   "cell_type": "code",
   "execution_count": 205,
   "metadata": {},
   "outputs": [
    {
     "data": {
      "text/plain": [
       "5.231457873280822"
      ]
     },
     "execution_count": 205,
     "metadata": {},
     "output_type": "execute_result"
    }
   ],
   "source": [
    "rmse(test['Gram'],test['ARIMA-LSTM_Pred'])"
   ]
  },
  {
   "cell_type": "code",
   "execution_count": 206,
   "metadata": {},
   "outputs": [],
   "source": [
    "import numpy as np\n",
    "\n",
    "def mean_absolute_percentage_error(y_true, y_pred): \n",
    "    y_true, y_pred = np.array(y_true), np.array(y_pred)\n",
    "    return np.mean(np.abs((y_true - y_pred) / y_true)) * 100"
   ]
  },
  {
   "cell_type": "code",
   "execution_count": 207,
   "metadata": {},
   "outputs": [
    {
     "data": {
      "text/plain": [
       "2.657498306996872"
      ]
     },
     "execution_count": 207,
     "metadata": {},
     "output_type": "execute_result"
    }
   ],
   "source": [
    "mean_absolute_percentage_error(test['Gram'],test['ARIMA-LSTM_Pred'])"
   ]
  },
  {
   "cell_type": "code",
   "execution_count": 254,
   "metadata": {},
   "outputs": [],
   "source": [
    "test.to_csv('Gram_result with ARIMA-LSTM Random forecst.csv')"
   ]
  },
  {
   "cell_type": "code",
   "execution_count": null,
   "metadata": {},
   "outputs": [],
   "source": []
  }
 ],
 "metadata": {
  "kernelspec": {
   "display_name": "Python 3 (ipykernel)",
   "language": "python",
   "name": "python3"
  },
  "language_info": {
   "codemirror_mode": {
    "name": "ipython",
    "version": 3
   },
   "file_extension": ".py",
   "mimetype": "text/x-python",
   "name": "python",
   "nbconvert_exporter": "python",
   "pygments_lexer": "ipython3",
   "version": "3.8.2"
  }
 },
 "nbformat": 4,
 "nbformat_minor": 4
}
